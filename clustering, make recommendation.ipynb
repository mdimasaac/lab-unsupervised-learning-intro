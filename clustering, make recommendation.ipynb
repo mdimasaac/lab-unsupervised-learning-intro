{
 "cells": [
  {
   "cell_type": "code",
   "execution_count": 1,
   "metadata": {},
   "outputs": [],
   "source": [
    "import numpy as np\n",
    "import matplotlib.pyplot as plt\n",
    "%matplotlib inline\n",
    "import pandas as pd\n",
    "from sklearn import cluster, datasets\n",
    "from sklearn.preprocessing import StandardScaler\n",
    "from matplotlib.lines import Line2D\n",
    "import random\n",
    "from bs4 import BeautifulSoup as bs4\n",
    "import requests\n",
    "from sklearn.metrics import silhouette_score\n",
    "import spotipy\n",
    "from spotipy.oauth2 import SpotifyClientCredentials\n",
    "from time import sleep\n",
    "from random import randint\n",
    "import time"
   ]
  },
  {
   "attachments": {},
   "cell_type": "markdown",
   "metadata": {},
   "source": [
    "### making clusters"
   ]
  },
  {
   "cell_type": "code",
   "execution_count": 2,
   "metadata": {},
   "outputs": [],
   "source": [
    "data = pd.read_csv(\"songlists.csv\")\n",
    "data = data.dropna()\n",
    "X = data.select_dtypes(include=np.number)"
   ]
  },
  {
   "cell_type": "code",
   "execution_count": 3,
   "metadata": {},
   "outputs": [],
   "source": [
    "scaler = StandardScaler().fit(X)\n",
    "X_prep = scaler.transform(X)"
   ]
  },
  {
   "attachments": {},
   "cell_type": "markdown",
   "metadata": {},
   "source": [
    "### find proper \"k\""
   ]
  },
  {
   "attachments": {},
   "cell_type": "markdown",
   "metadata": {},
   "source": [
    "choose k"
   ]
  },
  {
   "cell_type": "code",
   "execution_count": null,
   "metadata": {},
   "outputs": [],
   "source": [
    "K = range(2, 20)\n",
    "inertia = []\n",
    "\n",
    "for k in K:\n",
    "    kmeans = cluster.KMeans(n_clusters=k,\n",
    "                    random_state=1234)\n",
    "    kmeans.fit(X_prep)\n",
    "    inertia.append(kmeans.inertia_)\n",
    "\n",
    "plt.figure(figsize=(16,8))\n",
    "plt.plot(K, inertia, 'bx-')\n",
    "plt.xlabel('k')\n",
    "plt.ylabel('inertia')\n",
    "plt.xticks(np.arange(min(K), max(K)+1, 1.0))\n",
    "plt.title('Elbow Method showing the optimal k')"
   ]
  },
  {
   "cell_type": "code",
   "execution_count": null,
   "metadata": {},
   "outputs": [],
   "source": [
    "K = range(2, 20)\n",
    "silhouette = []\n",
    "\n",
    "for k in K:\n",
    "    kmeans = cluster.KMeans(n_clusters=k,\n",
    "                    random_state=1234)\n",
    "    kmeans.fit(X_prep)\n",
    "    silhouette.append(silhouette_score(X_prep, kmeans.predict(X_prep)))\n",
    "\n",
    "plt.figure(figsize=(16,8))\n",
    "plt.plot(K, silhouette, 'bx-')\n",
    "plt.xlabel('k')\n",
    "plt.ylabel('silhouette score')\n",
    "plt.xticks(np.arange(min(K), max(K)+1, 1.0))\n",
    "plt.title('Slhouette score showing the optimal k')"
   ]
  },
  {
   "attachments": {},
   "cell_type": "markdown",
   "metadata": {},
   "source": [
    "### continue with the work"
   ]
  },
  {
   "cell_type": "code",
   "execution_count": 4,
   "metadata": {},
   "outputs": [],
   "source": [
    "kmeans = cluster.KMeans(n_clusters=9)\n",
    "kmeans.fit(X_prep)\n",
    "pred = kmeans.predict(X_prep).tolist()"
   ]
  },
  {
   "cell_type": "markdown",
   "metadata": {},
   "source": [
    "### checking actual top 100 songs"
   ]
  },
  {
   "cell_type": "code",
   "execution_count": 6,
   "metadata": {},
   "outputs": [],
   "source": [
    "url = \"https://www.popvortex.com/music/charts/top-100-songs.php\"\n",
    "response = requests.get(url)\n",
    "contents = response.content\n",
    "soup = bs4(contents, \"html.parser\")"
   ]
  },
  {
   "cell_type": "code",
   "execution_count": 7,
   "metadata": {},
   "outputs": [
    {
     "data": {
      "text/html": [
       "<div>\n",
       "<style scoped>\n",
       "    .dataframe tbody tr th:only-of-type {\n",
       "        vertical-align: middle;\n",
       "    }\n",
       "\n",
       "    .dataframe tbody tr th {\n",
       "        vertical-align: top;\n",
       "    }\n",
       "\n",
       "    .dataframe thead th {\n",
       "        text-align: right;\n",
       "    }\n",
       "</style>\n",
       "<table border=\"1\" class=\"dataframe\">\n",
       "  <thead>\n",
       "    <tr style=\"text-align: right;\">\n",
       "      <th></th>\n",
       "      <th>title</th>\n",
       "      <th>artist</th>\n",
       "    </tr>\n",
       "  </thead>\n",
       "  <tbody>\n",
       "    <tr>\n",
       "      <th>0</th>\n",
       "      <td>Shakira: Bzrp Music Sessions, Vol. 53</td>\n",
       "      <td>Bizarrap &amp; Shakira</td>\n",
       "    </tr>\n",
       "    <tr>\n",
       "      <th>1</th>\n",
       "      <td>Anti-Hero</td>\n",
       "      <td>Taylor Swift</td>\n",
       "    </tr>\n",
       "    <tr>\n",
       "      <th>2</th>\n",
       "      <td>Unholy</td>\n",
       "      <td>Sam Smith &amp; Kim Petras</td>\n",
       "    </tr>\n",
       "    <tr>\n",
       "      <th>3</th>\n",
       "      <td>People Get Ready</td>\n",
       "      <td>Jeff Beck &amp; Rod Stewart</td>\n",
       "    </tr>\n",
       "    <tr>\n",
       "      <th>4</th>\n",
       "      <td>Son Of A Sinner</td>\n",
       "      <td>Jelly Roll</td>\n",
       "    </tr>\n",
       "  </tbody>\n",
       "</table>\n",
       "</div>"
      ],
      "text/plain": [
       "                                   title                   artist\n",
       "0  Shakira: Bzrp Music Sessions, Vol. 53       Bizarrap & Shakira\n",
       "1                              Anti-Hero             Taylor Swift\n",
       "2                                 Unholy   Sam Smith & Kim Petras\n",
       "3                       People Get Ready  Jeff Beck & Rod Stewart\n",
       "4                        Son Of A Sinner               Jelly Roll"
      ]
     },
     "execution_count": 7,
     "metadata": {},
     "output_type": "execute_result"
    }
   ],
   "source": [
    "result = soup.find(\"div\",{\"class\":\"chart-wrapper\"})\n",
    "titles = []\n",
    "artists = []\n",
    "for i in range(1,101,1):\n",
    "    i_id = \"chart-position-\" + str(i)\n",
    "    song = result.find(\"div\",{\"id\":i_id})\n",
    "    title = song.find(\"p\",{\"class\":\"title-artist\"}).find(\"cite\").text\n",
    "    artist = song.find(\"p\",{\"class\":\"title-artist\"}).find(\"em\").text\n",
    "    titles.append(title)\n",
    "    artists.append(artist)\n",
    "top100 = pd.DataFrame({\"title\":titles,\"artist\":artists})\n",
    "top100.head()"
   ]
  },
  {
   "attachments": {},
   "cell_type": "markdown",
   "metadata": {},
   "source": [
    "### getting input from user"
   ]
  },
  {
   "cell_type": "code",
   "execution_count": 9,
   "metadata": {},
   "outputs": [],
   "source": [
    "def getrandom(df):\n",
    "    x = df.shape[0]\n",
    "    x = random.randint(0,x)\n",
    "    rec_title = df.iloc[x,0]\n",
    "    rec_artist = df.iloc[x,1]\n",
    "    return rec_title, rec_artist"
   ]
  },
  {
   "cell_type": "code",
   "execution_count": 10,
   "metadata": {},
   "outputs": [],
   "source": [
    "t = input(\"type in one of your favorite song: \").lower()\n",
    "a = input(\"type in the name of the artist: \").lower()\n",
    "reactions = [\"Nice one!\",\"Great choice!\",\"Not bad!\",\"Interesting!\",\"Cool!\"]"
   ]
  },
  {
   "attachments": {},
   "cell_type": "markdown",
   "metadata": {},
   "source": [
    "### checking if input is in the top 100"
   ]
  },
  {
   "cell_type": "code",
   "execution_count": 11,
   "metadata": {},
   "outputs": [
    {
     "name": "stdout",
     "output_type": "stream",
     "text": [
      "Oh I think I know that one! That's a good choice for music.\n"
     ]
    }
   ],
   "source": [
    "title, artist = getrandom(top100)\n",
    "recommend = False\n",
    "if top100[\"title\"].str.contains(t).any() or top100[\"artist\"].str.contains(a).any():\n",
    "    comment = random.choice(reactions)\n",
    "    print(comment, \"Maybe you'll like this song:\\n\\n\" + title.title() + \", by\", artist.title())\n",
    "else:\n",
    "    recommend = True\n",
    "    print(\"Oh I think I know that one! That's a good choice for music.\")"
   ]
  },
  {
   "attachments": {},
   "cell_type": "markdown",
   "metadata": {},
   "source": [
    "### getting songinfo from spotify"
   ]
  },
  {
   "cell_type": "code",
   "execution_count": 13,
   "metadata": {},
   "outputs": [],
   "source": [
    "secrets_file = open(\"secrets.txt\",\"r\")\n",
    "string = secrets_file.read()\n",
    "secrets_dict={}\n",
    "for line in string.split('\\n'):\n",
    "    if len(line) > 0:\n",
    "        secrets_dict[line.split(':')[0]]=line.split(':')[1].strip()\n",
    "\n",
    "sp = spotipy.Spotify(auth_manager=SpotifyClientCredentials(client_id=secrets_dict['clientid'],\n",
    "                                                           client_secret=secrets_dict['clientsecret']))"
   ]
  },
  {
   "cell_type": "code",
   "execution_count": 38,
   "metadata": {},
   "outputs": [],
   "source": [
    "def getsonginfo(t,a):\n",
    "    track = sp.search(q=t+\" \"+a, limit=1)\n",
    "    title = track[\"tracks\"][\"items\"][0][\"name\"]\n",
    "    artist = []\n",
    "    artists = track[\"tracks\"][\"items\"][0][\"artists\"]\n",
    "    for i in artists:\n",
    "        artist_n = i[\"name\"]\n",
    "        artist.append(artist_n)\n",
    "    artist = \", \".join(artist)\n",
    "    uri = track[\"tracks\"][\"items\"][0][\"uri\"]\n",
    "    songinfo = {\"title\":title, \"artist\":artist, \"uri\":uri}\n",
    "    songinfo = pd.DataFrame(songinfo, index = [0])\n",
    "    songuri = sp.audio_features(uri)\n",
    "    songuri = pd.DataFrame(songuri)\n",
    "    df = pd.concat([songinfo, songuri], axis = 1)\n",
    "    return df\n",
    "\n",
    "def getfromcluster(t,a, data):\n",
    "    df = getsonginfo(t,a)\n",
    "    x = df.select_dtypes(include=np.number)\n",
    "    # x = x[[cols]]\n",
    "    x_prep = scaler.transform(x)\n",
    "    pred = kmeans.predict(x_prep)\n",
    "    selection = data[data.cluster == pred[0]]\n",
    "    title, artist = getrandom(data)\n",
    "    return title, artist"
   ]
  },
  {
   "attachments": {},
   "cell_type": "markdown",
   "metadata": {},
   "source": [
    "### getting recommendation(s)"
   ]
  },
  {
   "cell_type": "code",
   "execution_count": 59,
   "metadata": {},
   "outputs": [
    {
     "name": "stdout",
     "output_type": "stream",
     "text": [
      "You might like this song:\n",
      "\n",
      "Liquid Love, by David Douglas\n",
      "\n",
      "...Not to your liking? Get more song recommendations! (run this cell)\n"
     ]
    }
   ],
   "source": [
    "data[\"cluster\"] = pred\n",
    "rec_title, rec_artist = getfromcluster(t,a,data)\n",
    "print(\"You might like this song:\\n\\n\" + rec_title + \", by\", rec_artist)\n",
    "print(\"\\n...Not to your liking? Get more song recommendations! (run this cell)\")"
   ]
  }
 ],
 "metadata": {
  "kernelspec": {
   "display_name": "Python 3",
   "language": "python",
   "name": "python3"
  },
  "language_info": {
   "codemirror_mode": {
    "name": "ipython",
    "version": 3
   },
   "file_extension": ".py",
   "mimetype": "text/x-python",
   "name": "python",
   "nbconvert_exporter": "python",
   "pygments_lexer": "ipython3",
   "version": "3.10.2"
  },
  "orig_nbformat": 4,
  "vscode": {
   "interpreter": {
    "hash": "1acc24bd1901f9ae8c29efb6830fcc1ca9fe0219dd00f8f1dc1b91856def15a9"
   }
  }
 },
 "nbformat": 4,
 "nbformat_minor": 2
}
