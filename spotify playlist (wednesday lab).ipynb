{
 "cells": [
  {
   "cell_type": "code",
   "execution_count": 8,
   "metadata": {},
   "outputs": [],
   "source": [
    "import spotipy\n",
    "from spotipy.oauth2 import SpotifyClientCredentials\n",
    "from bs4 import BeautifulSoup as bs4\n",
    "import requests\n",
    "import pandas as pd\n",
    "from time import sleep\n",
    "from random import randint\n",
    "import time"
   ]
  },
  {
   "attachments": {},
   "cell_type": "markdown",
   "metadata": {},
   "source": [
    "creating connection"
   ]
  },
  {
   "cell_type": "code",
   "execution_count": 9,
   "metadata": {},
   "outputs": [],
   "source": [
    "secrets_file = open(\"secrets.txt\",\"r\")\n",
    "string = secrets_file.read()\n",
    "secrets_dict={}\n",
    "for line in string.split('\\n'):\n",
    "    if len(line) > 0:\n",
    "        secrets_dict[line.split(':')[0]]=line.split(':')[1].strip()\n",
    "\n",
    "sp = spotipy.Spotify(auth_manager=SpotifyClientCredentials(client_id=secrets_dict['clientid'],\n",
    "                                                           client_secret=secrets_dict['clientsecret']))"
   ]
  },
  {
   "attachments": {},
   "cell_type": "markdown",
   "metadata": {},
   "source": [
    "preparing functions for the big war"
   ]
  },
  {
   "cell_type": "code",
   "execution_count": 10,
   "metadata": {},
   "outputs": [],
   "source": [
    "def get_playlist_tracks(playlist_id):\n",
    "    results = sp.user_playlist_tracks(\"spotify\",playlist_id)\n",
    "    tracks = results['items']\n",
    "    while results['next']!=None:\n",
    "        results = sp.next(results)\n",
    "        tracks = tracks + results['items']\n",
    "        sleep(randint(1,3))\n",
    "    return tracks"
   ]
  },
  {
   "cell_type": "code",
   "execution_count": 11,
   "metadata": {},
   "outputs": [],
   "source": [
    "def get_name(song):\n",
    "    name = song[\"track\"][\"name\"]\n",
    "    return name\n",
    "def get_id(song):\n",
    "    return song[\"track\"][\"id\"]\n",
    "def get_uri(song):\n",
    "    return song[\"track\"][\"uri\"]\n",
    "def get_duration(song):\n",
    "    return song[\"track\"][\"duration_ms\"]\n",
    "def get_artists(song):\n",
    "    all_artist = []\n",
    "    artists = song[\"track\"][\"artists\"]\n",
    "    for i in artists:\n",
    "        artist = i[\"name\"]\n",
    "        all_artist.append(artist)\n",
    "    artists = \", \".join(all_artist)\n",
    "    return artists"
   ]
  },
  {
   "attachments": {},
   "cell_type": "markdown",
   "metadata": {},
   "source": [
    "empty list to keep all tracks obtained from playlists"
   ]
  },
  {
   "cell_type": "code",
   "execution_count": 12,
   "metadata": {},
   "outputs": [],
   "source": [
    "all_tracks = []"
   ]
  },
  {
   "attachments": {},
   "cell_type": "markdown",
   "metadata": {},
   "source": [
    "put all playlists you want to get songs from"
   ]
  },
  {
   "cell_type": "code",
   "execution_count": 13,
   "metadata": {},
   "outputs": [],
   "source": [
    "playlists = [\"3LgwHwHUnheGm88n8pDdA7\",\"2JHheevZhehi18oX4t4lXE\",\"1hMzceeWw7QiI6vaBkcEJO\",\n",
    "\"4rnleEAOdmFAbRcNCgZMpY\",\"69fEt9DN5r4JQATi52sRtq\",\"5S8SJdl1BDc0ugpkEvFsIL\",\"7ikZLGjkIILujRBn2GL5bM\",\n",
    "\"37i9dQZF1DX4PP3DA4J0N8\",\"0vvXsWCC9xrXsKd4FyS8kM\",\"4rnleEAOdmFAbRcNCgZMpY\",\"2YRe7HRKNRvXdJBp9nXFza\",\n",
    "\"5xqpyfZyS1DVysoevdVyEn\"]"
   ]
  },
  {
   "attachments": {},
   "cell_type": "markdown",
   "metadata": {},
   "source": [
    "start collecting songs from playlists. this might take long, depending on the total song number"
   ]
  },
  {
   "cell_type": "code",
   "execution_count": 14,
   "metadata": {},
   "outputs": [
    {
     "data": {
      "text/plain": [
       "48997"
      ]
     },
     "execution_count": 14,
     "metadata": {},
     "output_type": "execute_result"
    }
   ],
   "source": [
    "for i in playlists:\n",
    "    tracks = get_playlist_tracks(i)\n",
    "    all_tracks = all_tracks + tracks\n",
    "    time.sleep(10)\n",
    "len(all_tracks)"
   ]
  },
  {
   "attachments": {},
   "cell_type": "markdown",
   "metadata": {},
   "source": [
    "run functions to get informations from track"
   ]
  },
  {
   "cell_type": "code",
   "execution_count": 15,
   "metadata": {},
   "outputs": [
    {
     "data": {
      "text/html": [
       "<div>\n",
       "<style scoped>\n",
       "    .dataframe tbody tr th:only-of-type {\n",
       "        vertical-align: middle;\n",
       "    }\n",
       "\n",
       "    .dataframe tbody tr th {\n",
       "        vertical-align: top;\n",
       "    }\n",
       "\n",
       "    .dataframe thead th {\n",
       "        text-align: right;\n",
       "    }\n",
       "</style>\n",
       "<table border=\"1\" class=\"dataframe\">\n",
       "  <thead>\n",
       "    <tr style=\"text-align: right;\">\n",
       "      <th></th>\n",
       "      <th>title</th>\n",
       "      <th>id</th>\n",
       "      <th>uri</th>\n",
       "      <th>duration_s</th>\n",
       "      <th>artists</th>\n",
       "    </tr>\n",
       "  </thead>\n",
       "  <tbody>\n",
       "    <tr>\n",
       "      <th>0</th>\n",
       "      <td>Livin' On A Prayer</td>\n",
       "      <td>37ZJ0p5Jm13JPevGcx4SkF</td>\n",
       "      <td>spotify:track:37ZJ0p5Jm13JPevGcx4SkF</td>\n",
       "      <td>249293</td>\n",
       "      <td>Bon Jovi</td>\n",
       "    </tr>\n",
       "    <tr>\n",
       "      <th>1</th>\n",
       "      <td>Wishing on a Star</td>\n",
       "      <td>0u2CGItUO2jYEiFaXD7n5S</td>\n",
       "      <td>spotify:track:0u2CGItUO2jYEiFaXD7n5S</td>\n",
       "      <td>291760</td>\n",
       "      <td>Rose Royce</td>\n",
       "    </tr>\n",
       "    <tr>\n",
       "      <th>2</th>\n",
       "      <td>Supremacy</td>\n",
       "      <td>40pPI2TbaYSZlKfV44HRjn</td>\n",
       "      <td>spotify:track:40pPI2TbaYSZlKfV44HRjn</td>\n",
       "      <td>295373</td>\n",
       "      <td>Muse</td>\n",
       "    </tr>\n",
       "    <tr>\n",
       "      <th>3</th>\n",
       "      <td>Saturday Night - Radio Mix</td>\n",
       "      <td>59VRFpPnC8pOhIH2WCWXF9</td>\n",
       "      <td>spotify:track:59VRFpPnC8pOhIH2WCWXF9</td>\n",
       "      <td>247405</td>\n",
       "      <td>Whigfield</td>\n",
       "    </tr>\n",
       "    <tr>\n",
       "      <th>4</th>\n",
       "      <td>The Real Slim Shady</td>\n",
       "      <td>3yfqSUWxFvZELEM4PmlwIR</td>\n",
       "      <td>spotify:track:3yfqSUWxFvZELEM4PmlwIR</td>\n",
       "      <td>284200</td>\n",
       "      <td>Eminem</td>\n",
       "    </tr>\n",
       "  </tbody>\n",
       "</table>\n",
       "</div>"
      ],
      "text/plain": [
       "                        title                      id  \\\n",
       "0          Livin' On A Prayer  37ZJ0p5Jm13JPevGcx4SkF   \n",
       "1           Wishing on a Star  0u2CGItUO2jYEiFaXD7n5S   \n",
       "2                   Supremacy  40pPI2TbaYSZlKfV44HRjn   \n",
       "3  Saturday Night - Radio Mix  59VRFpPnC8pOhIH2WCWXF9   \n",
       "4         The Real Slim Shady  3yfqSUWxFvZELEM4PmlwIR   \n",
       "\n",
       "                                    uri  duration_s     artists  \n",
       "0  spotify:track:37ZJ0p5Jm13JPevGcx4SkF      249293    Bon Jovi  \n",
       "1  spotify:track:0u2CGItUO2jYEiFaXD7n5S      291760  Rose Royce  \n",
       "2  spotify:track:40pPI2TbaYSZlKfV44HRjn      295373        Muse  \n",
       "3  spotify:track:59VRFpPnC8pOhIH2WCWXF9      247405   Whigfield  \n",
       "4  spotify:track:3yfqSUWxFvZELEM4PmlwIR      284200      Eminem  "
      ]
     },
     "execution_count": 15,
     "metadata": {},
     "output_type": "execute_result"
    }
   ],
   "source": [
    "ltitle = []\n",
    "lid = []\n",
    "luri = []\n",
    "lduration = []\n",
    "lartists = []\n",
    "for i in all_tracks:\n",
    "    songtitle = get_name(i)\n",
    "    songid = get_id(i)\n",
    "    songuri = get_uri(i)\n",
    "    songduration = get_duration(i)\n",
    "    songartists = get_artists(i)\n",
    "    ltitle.append(songtitle)\n",
    "    lid.append(songid)\n",
    "    luri.append(songuri)\n",
    "    lduration.append(songduration)\n",
    "    lartists.append(songartists)\n",
    "data = pd.DataFrame({\"title\":ltitle, \"id\":lid, \"uri\":luri, \"duration_s\":lduration, \"artists\":lartists})\n",
    "data.head()"
   ]
  },
  {
   "attachments": {},
   "cell_type": "markdown",
   "metadata": {},
   "source": [
    "sample"
   ]
  },
  {
   "cell_type": "code",
   "execution_count": 16,
   "metadata": {},
   "outputs": [
    {
     "data": {
      "text/plain": [
       "'turn ways'"
      ]
     },
     "execution_count": 16,
     "metadata": {},
     "output_type": "execute_result"
    }
   ],
   "source": [
    "all_tracks[32000][\"track\"][\"name\"]"
   ]
  },
  {
   "attachments": {},
   "cell_type": "markdown",
   "metadata": {},
   "source": [
    "now get all audio_features from each collected track"
   ]
  },
  {
   "cell_type": "code",
   "execution_count": 17,
   "metadata": {},
   "outputs": [
    {
     "name": "stderr",
     "output_type": "stream",
     "text": [
      "Expected id of type track but found type In+the+Shadow+of+the+Valley spotify:local:::In+the+Shadow+of+the+Valley:187\n",
      "Expected id of type track but found type April+Sweatpants spotify:local:::April+Sweatpants:166\n",
      "Expected id of type track but found type Gee+%28Korean+Ver.+MP3+only%29 spotify:local:SNSD::Gee+%28Korean+Ver.+MP3+only%29:205\n",
      "Expected id of type track but found type Hero spotify:local:::Hero:194\n",
      "Expected id of type track but found type Beneath+the+Mask+%5BWith+Lyrics%5D+-+Persona+5 spotify:local:::Beneath+the+Mask+%5BWith+Lyrics%5D+-+Persona+5:285\n",
      "Expected id of type track but found type Last+Surprise+%5BWith+Lyrics%5D+-+Persona+5 spotify:local:::Last+Surprise+%5BWith+Lyrics%5D+-+Persona+5:236\n",
      "Expected id of type track but found type Vampire+Weekend++Ottoman spotify:local:::Vampire+Weekend++Ottoman:244\n",
      "Expected id of type track but found type Vampire+Weekend+-+Ottoman spotify:local:::Vampire+Weekend+-+Ottoman:234\n",
      "Expected id of type track but found type Father+Christmas spotify:local:Harry+Gregson-Williams:The+Chronicles+of+Narnia%3A+The+Lion%2C+The+Witch+and+the+Wardrobe+%28Soundtrack+from+the+Motion+Picture%29:Father+Christmas:200\n",
      "Expected id of type track but found type To+Aslan%27s+Camp spotify:local:Harry+Gregson-Williams:The+Chronicles+of+Narnia%3A+The+Lion%2C+The+Witch+and+the+Wardrobe+%28Soundtrack+from+the+Motion+Picture%29:To+Aslan%27s+Camp:192\n",
      "Expected id of type track but found type Only+the+Beginning+of+the+Adventure spotify:local:Harry+Gregson-Williams:The+Chronicles+of+Narnia%3A+The+Lion%2C+The+Witch+and+the+Wardrobe+%28Soundtrack+from+the+Motion+Picture%29:Only+the+Beginning+of+the+Adventure:348\n",
      "Expected id of type track but found type Evacuating+London spotify:local:Harry+Gregson-Williams:The+Chronicles+of+Narnia%3A+The+Lion%2C+The+Witch+and+the+Wardrobe+%28Soundtrack+from+the+Motion+Picture%29:Evacuating+London:218\n",
      "Expected id of type track but found type The+Battle spotify:local:Harry+Gregson-Williams:The+Chronicles+of+Narnia%3A+The+Lion%2C+The+Witch+and+the+Wardrobe+%28Soundtrack+from+the+Motion+Picture%29:The+Battle:428\n",
      "Expected id of type track but found type I+Am+Not+A+Robot+%28Clock+Opera+Remix%29 spotify:local:Marina+%26+The+Diamonds:I+Am+Not+a+Robot:I+Am+Not+A+Robot+%28Clock+Opera+Remix%29:276\n",
      "Expected id of type track but found type Guilt spotify:local:Nero:Guilt:Guilt:273\n",
      "Expected id of type track but found type Bomb+The+Bass+%2F+Bug+Powder+Dust+%28K%26D+Session%29 spotify:local:Kruder+%26+Dorfmeister:The+K%26D+Sessions+CD1:Bomb+The+Bass+%2F+Bug+Powder+Dust+%28K%26D+Session%29:440\n",
      "Expected id of type track but found type Agust+D spotify:local:Agust+D:Agust+D:Agust+D:234\n",
      "Expected id of type track but found type %EC%95%BD%EC%86%8D+By+JIMIN+Of+BTS spotify:local:BTS:%EC%95%BD%EC%86%8D+By+JIMIN+Of+BTS:%EC%95%BD%EC%86%8D+By+JIMIN+Of+BTS:151\n",
      "Expected id of type track but found type Seesaw+X+I+NEED+U+REMIX spotify:local:BTS:Seesaw+X+I+NEED+U+REMIX:Seesaw+X+I+NEED+U+REMIX:191\n",
      "Expected id of type track but found type In+A+Gadda+Da+Vida+%28Live%29 spotify:local:Iron+Butterfly:Divers:In+A+Gadda+Da+Vida+%28Live%29:1129\n"
     ]
    }
   ],
   "source": [
    "uri = data.uri.tolist()\n",
    "df_uri = pd.DataFrame()\n",
    "for i in uri:\n",
    "    songuri = sp.audio_features(i)\n",
    "    songuri = pd.DataFrame(songuri)\n",
    "    df_uri = pd.concat([df_uri, songuri])"
   ]
  },
  {
   "attachments": {},
   "cell_type": "markdown",
   "metadata": {},
   "source": [
    "cleaning up a bit"
   ]
  },
  {
   "cell_type": "code",
   "execution_count": 18,
   "metadata": {},
   "outputs": [],
   "source": [
    "df_uri = df_uri.reset_index()\n",
    "df_uri = df_uri.drop([\"type\",0, \"index\"], axis = 1)\n",
    "data = data.drop([\"id\",\"uri\",\"duration_s\"], axis = 1)"
   ]
  },
  {
   "cell_type": "code",
   "execution_count": 19,
   "metadata": {},
   "outputs": [
    {
     "data": {
      "text/plain": [
       "(48997, 17)"
      ]
     },
     "metadata": {},
     "output_type": "display_data"
    },
    {
     "data": {
      "text/plain": [
       "(48997, 2)"
      ]
     },
     "metadata": {},
     "output_type": "display_data"
    }
   ],
   "source": [
    "display(df_uri.shape)\n",
    "display(data.shape)"
   ]
  },
  {
   "attachments": {},
   "cell_type": "markdown",
   "metadata": {},
   "source": [
    "combine titles+artists with audio_features"
   ]
  },
  {
   "cell_type": "code",
   "execution_count": 20,
   "metadata": {},
   "outputs": [
    {
     "data": {
      "text/html": [
       "<div>\n",
       "<style scoped>\n",
       "    .dataframe tbody tr th:only-of-type {\n",
       "        vertical-align: middle;\n",
       "    }\n",
       "\n",
       "    .dataframe tbody tr th {\n",
       "        vertical-align: top;\n",
       "    }\n",
       "\n",
       "    .dataframe thead th {\n",
       "        text-align: right;\n",
       "    }\n",
       "</style>\n",
       "<table border=\"1\" class=\"dataframe\">\n",
       "  <thead>\n",
       "    <tr style=\"text-align: right;\">\n",
       "      <th></th>\n",
       "      <th>title</th>\n",
       "      <th>artists</th>\n",
       "      <th>danceability</th>\n",
       "      <th>energy</th>\n",
       "      <th>key</th>\n",
       "      <th>loudness</th>\n",
       "      <th>mode</th>\n",
       "      <th>speechiness</th>\n",
       "      <th>acousticness</th>\n",
       "      <th>instrumentalness</th>\n",
       "      <th>liveness</th>\n",
       "      <th>valence</th>\n",
       "      <th>tempo</th>\n",
       "      <th>id</th>\n",
       "      <th>uri</th>\n",
       "      <th>track_href</th>\n",
       "      <th>analysis_url</th>\n",
       "      <th>duration_ms</th>\n",
       "      <th>time_signature</th>\n",
       "    </tr>\n",
       "  </thead>\n",
       "  <tbody>\n",
       "    <tr>\n",
       "      <th>0</th>\n",
       "      <td>Livin' On A Prayer</td>\n",
       "      <td>Bon Jovi</td>\n",
       "      <td>0.532</td>\n",
       "      <td>0.887</td>\n",
       "      <td>0.0</td>\n",
       "      <td>-3.757</td>\n",
       "      <td>1.0</td>\n",
       "      <td>0.0335</td>\n",
       "      <td>0.07780</td>\n",
       "      <td>0.000214</td>\n",
       "      <td>0.2940</td>\n",
       "      <td>0.795</td>\n",
       "      <td>122.511</td>\n",
       "      <td>37ZJ0p5Jm13JPevGcx4SkF</td>\n",
       "      <td>spotify:track:37ZJ0p5Jm13JPevGcx4SkF</td>\n",
       "      <td>https://api.spotify.com/v1/tracks/37ZJ0p5Jm13J...</td>\n",
       "      <td>https://api.spotify.com/v1/audio-analysis/37ZJ...</td>\n",
       "      <td>249293.0</td>\n",
       "      <td>4.0</td>\n",
       "    </tr>\n",
       "    <tr>\n",
       "      <th>1</th>\n",
       "      <td>Wishing on a Star</td>\n",
       "      <td>Rose Royce</td>\n",
       "      <td>0.335</td>\n",
       "      <td>0.422</td>\n",
       "      <td>5.0</td>\n",
       "      <td>-15.172</td>\n",
       "      <td>0.0</td>\n",
       "      <td>0.0519</td>\n",
       "      <td>0.71600</td>\n",
       "      <td>0.000040</td>\n",
       "      <td>0.0455</td>\n",
       "      <td>0.553</td>\n",
       "      <td>97.660</td>\n",
       "      <td>0u2CGItUO2jYEiFaXD7n5S</td>\n",
       "      <td>spotify:track:0u2CGItUO2jYEiFaXD7n5S</td>\n",
       "      <td>https://api.spotify.com/v1/tracks/0u2CGItUO2jY...</td>\n",
       "      <td>https://api.spotify.com/v1/audio-analysis/0u2C...</td>\n",
       "      <td>291760.0</td>\n",
       "      <td>4.0</td>\n",
       "    </tr>\n",
       "    <tr>\n",
       "      <th>2</th>\n",
       "      <td>Supremacy</td>\n",
       "      <td>Muse</td>\n",
       "      <td>0.256</td>\n",
       "      <td>0.679</td>\n",
       "      <td>9.0</td>\n",
       "      <td>-4.495</td>\n",
       "      <td>0.0</td>\n",
       "      <td>0.0387</td>\n",
       "      <td>0.00451</td>\n",
       "      <td>0.040900</td>\n",
       "      <td>0.1720</td>\n",
       "      <td>0.325</td>\n",
       "      <td>158.718</td>\n",
       "      <td>40pPI2TbaYSZlKfV44HRjn</td>\n",
       "      <td>spotify:track:40pPI2TbaYSZlKfV44HRjn</td>\n",
       "      <td>https://api.spotify.com/v1/tracks/40pPI2TbaYSZ...</td>\n",
       "      <td>https://api.spotify.com/v1/audio-analysis/40pP...</td>\n",
       "      <td>295373.0</td>\n",
       "      <td>4.0</td>\n",
       "    </tr>\n",
       "    <tr>\n",
       "      <th>3</th>\n",
       "      <td>Saturday Night - Radio Mix</td>\n",
       "      <td>Whigfield</td>\n",
       "      <td>0.728</td>\n",
       "      <td>0.784</td>\n",
       "      <td>11.0</td>\n",
       "      <td>-11.776</td>\n",
       "      <td>1.0</td>\n",
       "      <td>0.0379</td>\n",
       "      <td>0.04490</td>\n",
       "      <td>0.091800</td>\n",
       "      <td>0.0964</td>\n",
       "      <td>0.964</td>\n",
       "      <td>129.981</td>\n",
       "      <td>59VRFpPnC8pOhIH2WCWXF9</td>\n",
       "      <td>spotify:track:59VRFpPnC8pOhIH2WCWXF9</td>\n",
       "      <td>https://api.spotify.com/v1/tracks/59VRFpPnC8pO...</td>\n",
       "      <td>https://api.spotify.com/v1/audio-analysis/59VR...</td>\n",
       "      <td>247406.0</td>\n",
       "      <td>4.0</td>\n",
       "    </tr>\n",
       "    <tr>\n",
       "      <th>4</th>\n",
       "      <td>The Real Slim Shady</td>\n",
       "      <td>Eminem</td>\n",
       "      <td>0.949</td>\n",
       "      <td>0.661</td>\n",
       "      <td>5.0</td>\n",
       "      <td>-4.244</td>\n",
       "      <td>0.0</td>\n",
       "      <td>0.0572</td>\n",
       "      <td>0.03020</td>\n",
       "      <td>0.000000</td>\n",
       "      <td>0.0454</td>\n",
       "      <td>0.760</td>\n",
       "      <td>104.504</td>\n",
       "      <td>3yfqSUWxFvZELEM4PmlwIR</td>\n",
       "      <td>spotify:track:3yfqSUWxFvZELEM4PmlwIR</td>\n",
       "      <td>https://api.spotify.com/v1/tracks/3yfqSUWxFvZE...</td>\n",
       "      <td>https://api.spotify.com/v1/audio-analysis/3yfq...</td>\n",
       "      <td>284200.0</td>\n",
       "      <td>4.0</td>\n",
       "    </tr>\n",
       "  </tbody>\n",
       "</table>\n",
       "</div>"
      ],
      "text/plain": [
       "                        title     artists  danceability  energy   key  \\\n",
       "0          Livin' On A Prayer    Bon Jovi         0.532   0.887   0.0   \n",
       "1           Wishing on a Star  Rose Royce         0.335   0.422   5.0   \n",
       "2                   Supremacy        Muse         0.256   0.679   9.0   \n",
       "3  Saturday Night - Radio Mix   Whigfield         0.728   0.784  11.0   \n",
       "4         The Real Slim Shady      Eminem         0.949   0.661   5.0   \n",
       "\n",
       "   loudness  mode  speechiness  acousticness  instrumentalness  liveness  \\\n",
       "0    -3.757   1.0       0.0335       0.07780          0.000214    0.2940   \n",
       "1   -15.172   0.0       0.0519       0.71600          0.000040    0.0455   \n",
       "2    -4.495   0.0       0.0387       0.00451          0.040900    0.1720   \n",
       "3   -11.776   1.0       0.0379       0.04490          0.091800    0.0964   \n",
       "4    -4.244   0.0       0.0572       0.03020          0.000000    0.0454   \n",
       "\n",
       "   valence    tempo                      id  \\\n",
       "0    0.795  122.511  37ZJ0p5Jm13JPevGcx4SkF   \n",
       "1    0.553   97.660  0u2CGItUO2jYEiFaXD7n5S   \n",
       "2    0.325  158.718  40pPI2TbaYSZlKfV44HRjn   \n",
       "3    0.964  129.981  59VRFpPnC8pOhIH2WCWXF9   \n",
       "4    0.760  104.504  3yfqSUWxFvZELEM4PmlwIR   \n",
       "\n",
       "                                    uri  \\\n",
       "0  spotify:track:37ZJ0p5Jm13JPevGcx4SkF   \n",
       "1  spotify:track:0u2CGItUO2jYEiFaXD7n5S   \n",
       "2  spotify:track:40pPI2TbaYSZlKfV44HRjn   \n",
       "3  spotify:track:59VRFpPnC8pOhIH2WCWXF9   \n",
       "4  spotify:track:3yfqSUWxFvZELEM4PmlwIR   \n",
       "\n",
       "                                          track_href  \\\n",
       "0  https://api.spotify.com/v1/tracks/37ZJ0p5Jm13J...   \n",
       "1  https://api.spotify.com/v1/tracks/0u2CGItUO2jY...   \n",
       "2  https://api.spotify.com/v1/tracks/40pPI2TbaYSZ...   \n",
       "3  https://api.spotify.com/v1/tracks/59VRFpPnC8pO...   \n",
       "4  https://api.spotify.com/v1/tracks/3yfqSUWxFvZE...   \n",
       "\n",
       "                                        analysis_url  duration_ms  \\\n",
       "0  https://api.spotify.com/v1/audio-analysis/37ZJ...     249293.0   \n",
       "1  https://api.spotify.com/v1/audio-analysis/0u2C...     291760.0   \n",
       "2  https://api.spotify.com/v1/audio-analysis/40pP...     295373.0   \n",
       "3  https://api.spotify.com/v1/audio-analysis/59VR...     247406.0   \n",
       "4  https://api.spotify.com/v1/audio-analysis/3yfq...     284200.0   \n",
       "\n",
       "   time_signature  \n",
       "0             4.0  \n",
       "1             4.0  \n",
       "2             4.0  \n",
       "3             4.0  \n",
       "4             4.0  "
      ]
     },
     "execution_count": 20,
     "metadata": {},
     "output_type": "execute_result"
    }
   ],
   "source": [
    "full = pd.concat([data,df_uri], axis = 1)\n",
    "full.head()"
   ]
  },
  {
   "cell_type": "code",
   "execution_count": 21,
   "metadata": {},
   "outputs": [
    {
     "data": {
      "text/plain": [
       "(48997, 19)"
      ]
     },
     "metadata": {},
     "output_type": "display_data"
    },
    {
     "data": {
      "text/plain": [
       "(41816, 19)"
      ]
     },
     "execution_count": 21,
     "metadata": {},
     "output_type": "execute_result"
    }
   ],
   "source": [
    "display(full.shape)\n",
    "full = full.drop_duplicates(subset = \"id\")\n",
    "full.shape"
   ]
  },
  {
   "attachments": {},
   "cell_type": "markdown",
   "metadata": {},
   "source": [
    "all clear"
   ]
  },
  {
   "cell_type": "code",
   "execution_count": 22,
   "metadata": {},
   "outputs": [],
   "source": [
    "full.to_csv(\"songlists.csv\", index = False)"
   ]
  }
 ],
 "metadata": {
  "kernelspec": {
   "display_name": "Python 3",
   "language": "python",
   "name": "python3"
  },
  "language_info": {
   "codemirror_mode": {
    "name": "ipython",
    "version": 3
   },
   "file_extension": ".py",
   "mimetype": "text/x-python",
   "name": "python",
   "nbconvert_exporter": "python",
   "pygments_lexer": "ipython3",
   "version": "3.10.2 (tags/v3.10.2:a58ebcc, Jan 17 2022, 14:12:15) [MSC v.1929 64 bit (AMD64)]"
  },
  "orig_nbformat": 4,
  "vscode": {
   "interpreter": {
    "hash": "1acc24bd1901f9ae8c29efb6830fcc1ca9fe0219dd00f8f1dc1b91856def15a9"
   }
  }
 },
 "nbformat": 4,
 "nbformat_minor": 2
}
