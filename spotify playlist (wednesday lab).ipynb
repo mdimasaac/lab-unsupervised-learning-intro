{
 "cells": [
  {
   "cell_type": "code",
   "execution_count": 1,
   "metadata": {},
   "outputs": [],
   "source": [
    "import spotipy\n",
    "from spotipy.oauth2 import SpotifyClientCredentials\n",
    "from bs4 import BeautifulSoup as bs4\n",
    "import requests\n",
    "import pandas as pd\n",
    "from time import sleep\n",
    "from random import randint\n",
    "import time\n",
    "import random"
   ]
  },
  {
   "attachments": {},
   "cell_type": "markdown",
   "metadata": {},
   "source": [
    "creating connection"
   ]
  },
  {
   "cell_type": "code",
   "execution_count": 2,
   "metadata": {},
   "outputs": [],
   "source": [
    "secrets_file = open(\"secrets.txt\",\"r\")\n",
    "string = secrets_file.read()\n",
    "secrets_dict={}\n",
    "for line in string.split('\\n'):\n",
    "    if len(line) > 0:\n",
    "        secrets_dict[line.split(':')[0]]=line.split(':')[1].strip()\n",
    "\n",
    "sp = spotipy.Spotify(auth_manager=SpotifyClientCredentials(client_id=secrets_dict['clientid'],\n",
    "                                                           client_secret=secrets_dict['clientsecret']))"
   ]
  },
  {
   "attachments": {},
   "cell_type": "markdown",
   "metadata": {},
   "source": [
    "### preparing functions for the big war"
   ]
  },
  {
   "cell_type": "code",
   "execution_count": 3,
   "metadata": {},
   "outputs": [],
   "source": [
    "def get_playlist_tracks(playlist_id):\n",
    "    results = sp.user_playlist_tracks(\"spotify\",playlist_id)\n",
    "    tracks = results['items']\n",
    "    while results['next']!=None:\n",
    "        results = sp.next(results)\n",
    "        tracks = tracks + results['items']\n",
    "        sleep(randint(1,3))\n",
    "    return tracks"
   ]
  },
  {
   "cell_type": "code",
   "execution_count": 4,
   "metadata": {},
   "outputs": [],
   "source": [
    "def get_search_results(keyword):\n",
    "    result = sp.search(q = keyword, limit = 50)\n",
    "    tracks = result[\"tracks\"][\"items\"]\n",
    "    counter = 0\n",
    "    while (result[\"tracks\"][\"next\"] != None) | counter < 10:\n",
    "        n = result[\"tracks\"]\n",
    "        nresult = sp.next(n)\n",
    "        tracks = tracks + nresult[\"tracks\"][\"items\"]\n",
    "        counter += 1\n",
    "        time.sleep(.5)\n",
    "        # time.sleep(randint(1,3))\n",
    "    return tracks"
   ]
  },
  {
   "attachments": {},
   "cell_type": "markdown",
   "metadata": {},
   "source": [
    "these are the functions for playlist results."
   ]
  },
  {
   "cell_type": "code",
   "execution_count": 5,
   "metadata": {},
   "outputs": [],
   "source": [
    "def get_name1(song):\n",
    "    name = song[\"track\"][\"name\"]\n",
    "    return name\n",
    "def get_id1(song):\n",
    "    return song[\"track\"][\"id\"]\n",
    "def get_uri1(song):\n",
    "    return song[\"track\"][\"uri\"]\n",
    "def get_duration1(song):\n",
    "    return song[\"track\"][\"duration_ms\"]\n",
    "def get_artists1(song):\n",
    "    all_artist = []\n",
    "    artists = song[\"track\"][\"artists\"]\n",
    "    for i in artists:\n",
    "        artist = i[\"name\"]\n",
    "        all_artist.append(artist)\n",
    "    artists = \", \".join(all_artist)\n",
    "    return artists"
   ]
  },
  {
   "attachments": {},
   "cell_type": "markdown",
   "metadata": {},
   "source": [
    "these are the functions for search results."
   ]
  },
  {
   "cell_type": "code",
   "execution_count": 6,
   "metadata": {},
   "outputs": [],
   "source": [
    "def get_name2(song):\n",
    "    name = song[\"name\"]\n",
    "    return name\n",
    "def get_id2(song):\n",
    "    return song[\"id\"]\n",
    "def get_uri2(song):\n",
    "    return song[\"uri\"]\n",
    "def get_duration2(song):\n",
    "    return song[\"duration_ms\"]\n",
    "def get_artists2(song):\n",
    "    all_artist = []\n",
    "    artists = song[\"artists\"]\n",
    "    for i in artists:\n",
    "        artist = i[\"name\"]\n",
    "        all_artist.append(artist)\n",
    "    artists = \", \".join(all_artist)\n",
    "    return artists"
   ]
  },
  {
   "attachments": {},
   "cell_type": "markdown",
   "metadata": {},
   "source": [
    "### testing"
   ]
  },
  {
   "cell_type": "code",
   "execution_count": 31,
   "metadata": {},
   "outputs": [],
   "source": [
    "res00 = sp.search(q = \"rock\", limit = 50)\n",
    "# res00"
   ]
  },
  {
   "cell_type": "code",
   "execution_count": 32,
   "metadata": {},
   "outputs": [
    {
     "data": {
      "text/plain": [
       "\"Rockin' Around The Christmas Tree\""
      ]
     },
     "execution_count": 32,
     "metadata": {},
     "output_type": "execute_result"
    }
   ],
   "source": [
    "res00[\"tracks\"][\"items\"][0][\"name\"]"
   ]
  },
  {
   "cell_type": "code",
   "execution_count": 36,
   "metadata": {},
   "outputs": [
    {
     "data": {
      "text/plain": [
       "'Brenda Lee'"
      ]
     },
     "execution_count": 36,
     "metadata": {},
     "output_type": "execute_result"
    }
   ],
   "source": [
    "res00[\"tracks\"][\"items\"][0][\"artists\"][0][\"name\"]"
   ]
  },
  {
   "cell_type": "code",
   "execution_count": 42,
   "metadata": {},
   "outputs": [
    {
     "data": {
      "text/plain": [
       "'Rocky Raccoon - Remastered 2009'"
      ]
     },
     "execution_count": 42,
     "metadata": {},
     "output_type": "execute_result"
    }
   ],
   "source": [
    "n = res00[\"tracks\"]\n",
    "res01 = sp.next(n)\n",
    "res01[\"tracks\"][\"items\"][0][\"name\"]"
   ]
  },
  {
   "attachments": {},
   "cell_type": "markdown",
   "metadata": {},
   "source": [
    "### get songs from some playlists"
   ]
  },
  {
   "attachments": {},
   "cell_type": "markdown",
   "metadata": {},
   "source": [
    "empty list to keep all tracks obtained from playlists"
   ]
  },
  {
   "cell_type": "code",
   "execution_count": 38,
   "metadata": {},
   "outputs": [],
   "source": [
    "all_tracks1 = []"
   ]
  },
  {
   "attachments": {},
   "cell_type": "markdown",
   "metadata": {},
   "source": [
    "put all playlists you want to get songs from"
   ]
  },
  {
   "cell_type": "code",
   "execution_count": 39,
   "metadata": {},
   "outputs": [],
   "source": [
    "playlists = [\"3LgwHwHUnheGm88n8pDdA7\",\"2JHheevZhehi18oX4t4lXE\",\"1hMzceeWw7QiI6vaBkcEJO\",\n",
    "\"4rnleEAOdmFAbRcNCgZMpY\",\"69fEt9DN5r4JQATi52sRtq\",\"5S8SJdl1BDc0ugpkEvFsIL\",\"7ikZLGjkIILujRBn2GL5bM\",\n",
    "\"37i9dQZF1DX4PP3DA4J0N8\",\"0vvXsWCC9xrXsKd4FyS8kM\",\"4rnleEAOdmFAbRcNCgZMpY\",\"2YRe7HRKNRvXdJBp9nXFza\",\n",
    "\"5xqpyfZyS1DVysoevdVyEn\"]"
   ]
  },
  {
   "attachments": {},
   "cell_type": "markdown",
   "metadata": {},
   "source": [
    "start collecting songs from playlists. this might take long, depending on the total song number"
   ]
  },
  {
   "cell_type": "code",
   "execution_count": 40,
   "metadata": {},
   "outputs": [
    {
     "data": {
      "text/plain": [
       "48996"
      ]
     },
     "execution_count": 40,
     "metadata": {},
     "output_type": "execute_result"
    }
   ],
   "source": [
    "for i in playlists:\n",
    "    tracks = get_playlist_tracks(i)\n",
    "    all_tracks1 = all_tracks1 + tracks\n",
    "    time.sleep(3)\n",
    "len(all_tracks1)"
   ]
  },
  {
   "attachments": {},
   "cell_type": "markdown",
   "metadata": {},
   "source": [
    "### scrape genres from a website"
   ]
  },
  {
   "cell_type": "code",
   "execution_count": 7,
   "metadata": {},
   "outputs": [],
   "source": [
    "genre_url = \"https://www.musicgenreslist.com/\"\n",
    "response = requests.get(genre_url)\n",
    "contents = response.content\n",
    "soup = bs4(contents, \"html.parser\")"
   ]
  },
  {
   "cell_type": "code",
   "execution_count": 8,
   "metadata": {},
   "outputs": [],
   "source": [
    "containers = soup.find(\"div\",{\"class\":\"page clearfix post-71 type-page status-publish hentry\"})\n",
    "subcon = containers.find_all(\"div\")[1]\n",
    "# subcon3 = subcon2.find_all(\"ul\")\n",
    "genres = []\n",
    "li = subcon.find_all(\"li\")\n",
    "for i in li:\n",
    "    try:\n",
    "        genre = i.text\n",
    "        if len(genre) < 20:\n",
    "            genres.append(genre)\n",
    "    except:\n",
    "        pass"
   ]
  },
  {
   "cell_type": "code",
   "execution_count": 9,
   "metadata": {},
   "outputs": [
    {
     "data": {
      "text/plain": [
       "837"
      ]
     },
     "execution_count": 9,
     "metadata": {},
     "output_type": "execute_result"
    }
   ],
   "source": [
    "len(genres)"
   ]
  },
  {
   "attachments": {},
   "cell_type": "markdown",
   "metadata": {},
   "source": [
    "### search a few songs for each genre collected from the scraping part"
   ]
  },
  {
   "cell_type": "code",
   "execution_count": 10,
   "metadata": {},
   "outputs": [],
   "source": [
    "all_tracks2 = []"
   ]
  },
  {
   "cell_type": "code",
   "execution_count": 18,
   "metadata": {},
   "outputs": [
    {
     "name": "stdout",
     "output_type": "stream",
     "text": [
      "1100\n",
      "1650\n",
      "2200\n",
      "2750\n",
      "3300\n",
      "3850\n",
      "4400\n",
      "4950\n",
      "5500\n",
      "6050\n",
      "6600\n",
      "7150\n",
      "7700\n",
      "8250\n",
      "8800\n",
      "9350\n",
      "9900\n",
      "10450\n",
      "11000\n",
      "11550\n",
      "12100\n",
      "12650\n",
      "13200\n",
      "13750\n",
      "14300\n",
      "14850\n",
      "15400\n",
      "15950\n",
      "16500\n",
      "17050\n",
      "17600\n",
      "18150\n",
      "18700\n",
      "19250\n",
      "19800\n",
      "20350\n",
      "20900\n",
      "21450\n",
      "22000\n",
      "22550\n",
      "23100\n",
      "23650\n",
      "24200\n",
      "24750\n",
      "25300\n",
      "25850\n",
      "26400\n",
      "26950\n",
      "27500\n",
      "28050\n",
      "28600\n",
      "29150\n",
      "29700\n",
      "30250\n",
      "30800\n",
      "31350\n",
      "31900\n",
      "32450\n",
      "33000\n",
      "33550\n",
      "34100\n",
      "34650\n",
      "35200\n",
      "35750\n",
      "36300\n",
      "36850\n",
      "37400\n",
      "37950\n",
      "38500\n",
      "39050\n",
      "39600\n",
      "40150\n",
      "40700\n",
      "41250\n",
      "41800\n",
      "42350\n",
      "42900\n",
      "43450\n",
      "44000\n",
      "44550\n",
      "45100\n",
      "45650\n",
      "46200\n",
      "46750\n",
      "47300\n",
      "47850\n",
      "48400\n",
      "48950\n",
      "49500\n",
      "50050\n",
      "50600\n",
      "51150\n",
      "51700\n",
      "52250\n",
      "52800\n",
      "53350\n",
      "53900\n",
      "54450\n",
      "55000\n",
      "55550\n",
      "56100\n",
      "56650\n",
      "57200\n",
      "57750\n",
      "58300\n",
      "58850\n",
      "59400\n",
      "59950\n",
      "60500\n",
      "61050\n",
      "61600\n",
      "62150\n",
      "62700\n",
      "63250\n",
      "63800\n",
      "64350\n",
      "64900\n",
      "65450\n",
      "66000\n",
      "66550\n",
      "67100\n",
      "67650\n",
      "68200\n",
      "68750\n",
      "69300\n",
      "69850\n",
      "70400\n",
      "70950\n",
      "71500\n",
      "72050\n",
      "72600\n",
      "73150\n",
      "73700\n",
      "74250\n",
      "74800\n",
      "75350\n",
      "75900\n",
      "76450\n",
      "77000\n",
      "77550\n",
      "78100\n",
      "78650\n",
      "79200\n",
      "79750\n",
      "80300\n",
      "80850\n",
      "81400\n",
      "81950\n",
      "82500\n",
      "83050\n",
      "83600\n",
      "84150\n",
      "84700\n",
      "85250\n",
      "85800\n",
      "86350\n",
      "86900\n",
      "87450\n",
      "88000\n",
      "88550\n",
      "89100\n",
      "89650\n",
      "90200\n",
      "90750\n",
      "91300\n",
      "91850\n",
      "92400\n",
      "92950\n",
      "93500\n",
      "94050\n",
      "94600\n",
      "95150\n",
      "95700\n",
      "96250\n",
      "96800\n",
      "97350\n",
      "97900\n",
      "98450\n",
      "99000\n",
      "99550\n",
      "100100\n",
      "100650\n",
      "101200\n",
      "101750\n",
      "102300\n",
      "102850\n",
      "103400\n",
      "103950\n",
      "104500\n",
      "105050\n",
      "105600\n",
      "106150\n",
      "106700\n",
      "107250\n",
      "107800\n",
      "108350\n",
      "108900\n",
      "109450\n",
      "110000\n",
      "110550\n",
      "111100\n",
      "111650\n",
      "112200\n",
      "112750\n",
      "113300\n",
      "113850\n",
      "114400\n",
      "114950\n",
      "115500\n",
      "116050\n",
      "116600\n",
      "117150\n",
      "117700\n",
      "118250\n",
      "118800\n",
      "119350\n",
      "119900\n",
      "120450\n",
      "121000\n",
      "121550\n",
      "122100\n",
      "122650\n",
      "123200\n",
      "123750\n",
      "124300\n",
      "124850\n",
      "125400\n",
      "125950\n",
      "126500\n",
      "127050\n",
      "127600\n",
      "128150\n",
      "128700\n",
      "129250\n",
      "129800\n",
      "130350\n",
      "130900\n",
      "131450\n",
      "132000\n",
      "132550\n",
      "133100\n",
      "133650\n",
      "134200\n",
      "134750\n",
      "135300\n",
      "135850\n",
      "136400\n",
      "136950\n",
      "137500\n",
      "138050\n",
      "138600\n",
      "139150\n",
      "139700\n",
      "140250\n",
      "140800\n",
      "141350\n",
      "141900\n",
      "142450\n",
      "143000\n",
      "143550\n",
      "144100\n",
      "144650\n",
      "145200\n",
      "145750\n",
      "146300\n",
      "146850\n",
      "147400\n",
      "147950\n",
      "148500\n",
      "149050\n",
      "149600\n",
      "150150\n",
      "150700\n",
      "151250\n",
      "151800\n",
      "152350\n",
      "152900\n",
      "153450\n",
      "154000\n",
      "154550\n",
      "155100\n",
      "155650\n",
      "156200\n",
      "156750\n",
      "157300\n",
      "157850\n",
      "158400\n",
      "158950\n",
      "159500\n",
      "160050\n",
      "160600\n",
      "161150\n",
      "161700\n",
      "162250\n",
      "162800\n",
      "163350\n",
      "163900\n",
      "164450\n",
      "165000\n",
      "165550\n",
      "166100\n",
      "166650\n",
      "167200\n",
      "167750\n",
      "168300\n",
      "168850\n",
      "169400\n",
      "169950\n",
      "170500\n",
      "171050\n",
      "171600\n",
      "172150\n",
      "172700\n",
      "173250\n",
      "173800\n",
      "174350\n",
      "174900\n",
      "175450\n",
      "176000\n",
      "176550\n",
      "177100\n",
      "177650\n",
      "178200\n",
      "178750\n",
      "179300\n",
      "179850\n",
      "179950\n",
      "180500\n",
      "181050\n",
      "181600\n",
      "182150\n",
      "182700\n",
      "183250\n",
      "183800\n",
      "184350\n",
      "184900\n",
      "185450\n",
      "186000\n",
      "186550\n",
      "187100\n",
      "187650\n",
      "188200\n",
      "188750\n",
      "189300\n",
      "189850\n",
      "190400\n",
      "190950\n",
      "191500\n",
      "192050\n",
      "192360\n",
      "192910\n",
      "193460\n",
      "194010\n",
      "194560\n",
      "195110\n",
      "195660\n",
      "196210\n",
      "196760\n",
      "197310\n",
      "197860\n",
      "198410\n",
      "198960\n",
      "199510\n",
      "200060\n",
      "200610\n",
      "201160\n",
      "201710\n",
      "202260\n",
      "202810\n",
      "203360\n",
      "203910\n",
      "204460\n",
      "205010\n",
      "205560\n",
      "206110\n",
      "206660\n",
      "207210\n",
      "207760\n",
      "208310\n",
      "208860\n",
      "209410\n",
      "209960\n",
      "210510\n",
      "211060\n",
      "211610\n",
      "212160\n",
      "212710\n",
      "213260\n",
      "213810\n",
      "214360\n",
      "214910\n",
      "215460\n",
      "216010\n",
      "216560\n",
      "217110\n",
      "217660\n",
      "218210\n",
      "218760\n",
      "219310\n",
      "219860\n",
      "220410\n",
      "220960\n",
      "221510\n",
      "222060\n",
      "222610\n",
      "223160\n",
      "223710\n",
      "224260\n",
      "224490\n",
      "225040\n",
      "225590\n",
      "226140\n",
      "226690\n",
      "227240\n",
      "227790\n",
      "228340\n",
      "228890\n",
      "229440\n",
      "229990\n",
      "230540\n",
      "231090\n",
      "231640\n",
      "232190\n",
      "232740\n",
      "233290\n",
      "233840\n",
      "234390\n",
      "234940\n",
      "235490\n",
      "236040\n",
      "236590\n",
      "237140\n",
      "237690\n",
      "238240\n",
      "238790\n",
      "239340\n",
      "239890\n",
      "240440\n",
      "240990\n",
      "241540\n",
      "242090\n",
      "242640\n",
      "243190\n",
      "243740\n",
      "244290\n",
      "244840\n",
      "245390\n",
      "245940\n",
      "246490\n",
      "247040\n",
      "247590\n",
      "248140\n",
      "248690\n",
      "249240\n",
      "249790\n",
      "250340\n",
      "250890\n",
      "251440\n",
      "251990\n",
      "252540\n",
      "253090\n",
      "253640\n",
      "254190\n",
      "254740\n",
      "255290\n",
      "255840\n",
      "256390\n",
      "256940\n",
      "257490\n",
      "258040\n",
      "258590\n",
      "259140\n",
      "259690\n",
      "260240\n",
      "260790\n",
      "261340\n",
      "261890\n",
      "262440\n",
      "262990\n",
      "263540\n",
      "264090\n",
      "264640\n",
      "265190\n",
      "265740\n",
      "266290\n",
      "266840\n",
      "267390\n",
      "267940\n",
      "268490\n",
      "269040\n",
      "269590\n",
      "270140\n",
      "270690\n",
      "271240\n",
      "271790\n",
      "272340\n",
      "272890\n",
      "273440\n",
      "273990\n",
      "274540\n",
      "275090\n",
      "275640\n",
      "276190\n",
      "276740\n",
      "277290\n",
      "277840\n",
      "278390\n",
      "278940\n",
      "279490\n",
      "280040\n",
      "280590\n",
      "281140\n",
      "281690\n",
      "282240\n",
      "282790\n",
      "283340\n",
      "283890\n",
      "284440\n",
      "284990\n",
      "285540\n",
      "286090\n",
      "286640\n",
      "287190\n",
      "287740\n",
      "288290\n",
      "288840\n",
      "289390\n",
      "289940\n",
      "290490\n",
      "291040\n",
      "291590\n",
      "292140\n",
      "292690\n",
      "293240\n",
      "293790\n",
      "294340\n",
      "294890\n",
      "295440\n",
      "295990\n",
      "296540\n",
      "297090\n",
      "297640\n",
      "298190\n",
      "298740\n",
      "299290\n",
      "299840\n",
      "300390\n",
      "300940\n",
      "301490\n",
      "302040\n",
      "302590\n",
      "303140\n",
      "303690\n",
      "304240\n",
      "304790\n",
      "305340\n",
      "305890\n",
      "306440\n",
      "306990\n",
      "307540\n",
      "308090\n",
      "308640\n",
      "309190\n",
      "309740\n",
      "310290\n",
      "310840\n",
      "311390\n",
      "311940\n",
      "312490\n",
      "313040\n",
      "313590\n",
      "314140\n",
      "314690\n",
      "315240\n",
      "315790\n",
      "316340\n",
      "316890\n",
      "317440\n",
      "317990\n",
      "318540\n",
      "319090\n",
      "319640\n",
      "320190\n",
      "320740\n",
      "321290\n",
      "321840\n",
      "322390\n",
      "322940\n",
      "323490\n",
      "324040\n",
      "324590\n",
      "325140\n",
      "325690\n",
      "326240\n",
      "326790\n",
      "327340\n",
      "327890\n",
      "328440\n",
      "328990\n",
      "329540\n",
      "330090\n",
      "330640\n",
      "331190\n",
      "331740\n",
      "332290\n",
      "332840\n",
      "333390\n",
      "333940\n",
      "334490\n",
      "335040\n",
      "335590\n",
      "336140\n",
      "336690\n",
      "337240\n",
      "337790\n",
      "338340\n",
      "338890\n",
      "339440\n",
      "339990\n",
      "340540\n",
      "341090\n",
      "341640\n",
      "342190\n",
      "342740\n",
      "343290\n",
      "343840\n",
      "344390\n",
      "344940\n",
      "345490\n",
      "346040\n",
      "346590\n",
      "347140\n",
      "347690\n",
      "348240\n",
      "348790\n",
      "349340\n",
      "349890\n",
      "350440\n",
      "350990\n",
      "351540\n",
      "352090\n",
      "352640\n",
      "353190\n",
      "353740\n",
      "354290\n",
      "354840\n",
      "355390\n",
      "355940\n",
      "356490\n",
      "357040\n",
      "357590\n",
      "358140\n",
      "358690\n",
      "359240\n",
      "359790\n",
      "360340\n",
      "360890\n",
      "361440\n",
      "361990\n",
      "362540\n",
      "363090\n",
      "363640\n",
      "364190\n",
      "364740\n",
      "365290\n",
      "365840\n",
      "366390\n",
      "366940\n",
      "367490\n",
      "368040\n",
      "368590\n",
      "369140\n",
      "369690\n",
      "370240\n",
      "370790\n",
      "371340\n",
      "371890\n",
      "372440\n",
      "372990\n",
      "373540\n",
      "374090\n",
      "374640\n",
      "375190\n",
      "375740\n",
      "376290\n",
      "376840\n",
      "377390\n",
      "377940\n",
      "378490\n",
      "379040\n",
      "379590\n",
      "380140\n",
      "380690\n",
      "381240\n",
      "381790\n",
      "382340\n",
      "382890\n",
      "383440\n",
      "383990\n",
      "384540\n",
      "385090\n",
      "385640\n",
      "386190\n",
      "386740\n",
      "387290\n",
      "387840\n",
      "388390\n",
      "388940\n",
      "389490\n",
      "390040\n",
      "390590\n",
      "391140\n",
      "391690\n",
      "392240\n",
      "392790\n",
      "393340\n",
      "393890\n",
      "394440\n",
      "394990\n",
      "395540\n",
      "396090\n",
      "396200\n",
      "396750\n",
      "397300\n",
      "397850\n",
      "398400\n",
      "398950\n",
      "399500\n",
      "400050\n",
      "400600\n",
      "401150\n",
      "401700\n",
      "402250\n",
      "402800\n",
      "403350\n",
      "403900\n",
      "404450\n",
      "405000\n",
      "405550\n",
      "406100\n",
      "406650\n",
      "407200\n",
      "407750\n",
      "408300\n",
      "408850\n",
      "409400\n",
      "409950\n",
      "410500\n",
      "411050\n",
      "411600\n",
      "412150\n",
      "412700\n",
      "413250\n",
      "413800\n",
      "414350\n",
      "414900\n",
      "415450\n",
      "416000\n",
      "416550\n",
      "417100\n",
      "417650\n",
      "418200\n",
      "418750\n",
      "419300\n",
      "419850\n",
      "420400\n",
      "420950\n",
      "421500\n",
      "422050\n",
      "422600\n",
      "423150\n",
      "423700\n",
      "424250\n",
      "424800\n",
      "425350\n",
      "425900\n",
      "426450\n",
      "427000\n",
      "427550\n",
      "428100\n",
      "428650\n",
      "429200\n",
      "429750\n",
      "430300\n",
      "430850\n",
      "431400\n",
      "431950\n",
      "432500\n",
      "433050\n",
      "433600\n",
      "434150\n",
      "434700\n",
      "435250\n",
      "435800\n",
      "436350\n",
      "436900\n",
      "437450\n",
      "438000\n",
      "438550\n",
      "439100\n",
      "439650\n",
      "440200\n",
      "440750\n",
      "441300\n",
      "441850\n",
      "442400\n",
      "442950\n",
      "443500\n",
      "444050\n",
      "444600\n",
      "445150\n",
      "445700\n",
      "446250\n",
      "446800\n",
      "447350\n",
      "447900\n",
      "447990\n",
      "448540\n",
      "449090\n",
      "449640\n",
      "450190\n",
      "450740\n",
      "451290\n",
      "451840\n",
      "452390\n",
      "452940\n"
     ]
    }
   ],
   "source": [
    "for i in genres:\n",
    "    try:\n",
    "        tracks = get_search_results(i)\n",
    "        all_tracks2 = all_tracks2 + tracks\n",
    "        # print(len(all_tracks2))\n",
    "        time.sleep(2)\n",
    "    except:\n",
    "        pass"
   ]
  },
  {
   "cell_type": "code",
   "execution_count": 50,
   "metadata": {},
   "outputs": [
    {
     "data": {
      "text/plain": [
       "'Punk - ARTY Rock-n-Rolla Mix'"
      ]
     },
     "execution_count": 50,
     "metadata": {},
     "output_type": "execute_result"
    }
   ],
   "source": [
    "all_tracks2[0][\"name\"]"
   ]
  },
  {
   "attachments": {},
   "cell_type": "markdown",
   "metadata": {},
   "source": [
    "### run functions to get informations from track"
   ]
  },
  {
   "cell_type": "code",
   "execution_count": 41,
   "metadata": {},
   "outputs": [],
   "source": [
    "ltitle1 = []\n",
    "lid1 = []\n",
    "luri1 = []\n",
    "lduration1 = []\n",
    "lartists1 = []\n",
    "for i in all_tracks1:\n",
    "    songtitle = get_name1(i)\n",
    "    songid = get_id1(i)\n",
    "    songuri = get_uri1(i)\n",
    "    songduration = get_duration1(i)\n",
    "    songartists = get_artists1(i)\n",
    "    ltitle1.append(songtitle)\n",
    "    lid1.append(songid)\n",
    "    luri1.append(songuri)\n",
    "    lduration1.append(songduration)\n",
    "    lartists1.append(songartists)"
   ]
  },
  {
   "cell_type": "code",
   "execution_count": 55,
   "metadata": {},
   "outputs": [
    {
     "data": {
      "text/plain": [
       "dict_keys(['album', 'artists', 'available_markets', 'disc_number', 'duration_ms', 'explicit', 'external_ids', 'external_urls', 'href', 'id', 'is_local', 'name', 'popularity', 'preview_url', 'track_number', 'type', 'uri'])"
      ]
     },
     "execution_count": 55,
     "metadata": {},
     "output_type": "execute_result"
    }
   ],
   "source": [
    "all_tracks2[0].keys()"
   ]
  },
  {
   "cell_type": "code",
   "execution_count": 56,
   "metadata": {},
   "outputs": [],
   "source": [
    "ltitle2 = []\n",
    "lid2 = []\n",
    "luri2 = []\n",
    "lduration2 = []\n",
    "lartists2 = []\n",
    "for i in all_tracks2:\n",
    "    try:\n",
    "        songtitle = get_name2(i)\n",
    "        songid = get_id2(i)\n",
    "        songuri = get_uri2(i)\n",
    "        songduration = get_duration2(i)\n",
    "        songartists = get_artists2(i)\n",
    "    except:\n",
    "        pass\n",
    "    ltitle2.append(songtitle)\n",
    "    lid2.append(songid)\n",
    "    luri2.append(songuri)\n",
    "    lduration2.append(songduration)\n",
    "    lartists2.append(songartists)"
   ]
  },
  {
   "cell_type": "code",
   "execution_count": 57,
   "metadata": {},
   "outputs": [
    {
     "data": {
      "text/plain": [
       "452940"
      ]
     },
     "execution_count": 57,
     "metadata": {},
     "output_type": "execute_result"
    }
   ],
   "source": [
    "len(lid2)"
   ]
  },
  {
   "cell_type": "code",
   "execution_count": 58,
   "metadata": {},
   "outputs": [],
   "source": [
    "ltitle = ltitle1+ltitle2\n",
    "lid = lid1+lid2\n",
    "luri = luri1+luri2\n",
    "lduration = lduration1+lduration2\n",
    "lartists = lartists1+lartists2"
   ]
  },
  {
   "cell_type": "code",
   "execution_count": 61,
   "metadata": {},
   "outputs": [
    {
     "data": {
      "text/plain": [
       "(501916, 5)"
      ]
     },
     "metadata": {},
     "output_type": "display_data"
    },
    {
     "data": {
      "text/plain": [
       "title          0\n",
       "id             0\n",
       "uri            0\n",
       "duration_ms    0\n",
       "artists        0\n",
       "dtype: int64"
      ]
     },
     "metadata": {},
     "output_type": "display_data"
    }
   ],
   "source": [
    "data = pd.DataFrame({\"title\":ltitle, \"id\":lid, \"uri\":luri, \"duration_ms\":lduration, \"artists\":lartists})\n",
    "data = data.dropna()\n",
    "display(data.shape)\n",
    "display(data.isna().sum())\n"
   ]
  },
  {
   "attachments": {},
   "cell_type": "markdown",
   "metadata": {},
   "source": [
    "sample"
   ]
  },
  {
   "cell_type": "code",
   "execution_count": 16,
   "metadata": {},
   "outputs": [
    {
     "data": {
      "text/plain": [
       "'turn ways'"
      ]
     },
     "execution_count": 16,
     "metadata": {},
     "output_type": "execute_result"
    }
   ],
   "source": [
    "all_tracks[32000][\"track\"][\"name\"]"
   ]
  },
  {
   "attachments": {},
   "cell_type": "markdown",
   "metadata": {},
   "source": [
    "### get all audio_features from each collected track"
   ]
  },
  {
   "cell_type": "code",
   "execution_count": 64,
   "metadata": {},
   "outputs": [
    {
     "data": {
      "text/html": [
       "<div>\n",
       "<style scoped>\n",
       "    .dataframe tbody tr th:only-of-type {\n",
       "        vertical-align: middle;\n",
       "    }\n",
       "\n",
       "    .dataframe tbody tr th {\n",
       "        vertical-align: top;\n",
       "    }\n",
       "\n",
       "    .dataframe thead th {\n",
       "        text-align: right;\n",
       "    }\n",
       "</style>\n",
       "<table border=\"1\" class=\"dataframe\">\n",
       "  <thead>\n",
       "    <tr style=\"text-align: right;\">\n",
       "      <th></th>\n",
       "      <th>title</th>\n",
       "      <th>id</th>\n",
       "      <th>uri</th>\n",
       "      <th>duration_ms</th>\n",
       "      <th>artists</th>\n",
       "    </tr>\n",
       "  </thead>\n",
       "  <tbody>\n",
       "    <tr>\n",
       "      <th>0</th>\n",
       "      <td>Livin' On A Prayer</td>\n",
       "      <td>37ZJ0p5Jm13JPevGcx4SkF</td>\n",
       "      <td>spotify:track:37ZJ0p5Jm13JPevGcx4SkF</td>\n",
       "      <td>249293</td>\n",
       "      <td>Bon Jovi</td>\n",
       "    </tr>\n",
       "    <tr>\n",
       "      <th>1</th>\n",
       "      <td>Wishing on a Star</td>\n",
       "      <td>0u2CGItUO2jYEiFaXD7n5S</td>\n",
       "      <td>spotify:track:0u2CGItUO2jYEiFaXD7n5S</td>\n",
       "      <td>291760</td>\n",
       "      <td>Rose Royce</td>\n",
       "    </tr>\n",
       "    <tr>\n",
       "      <th>2</th>\n",
       "      <td>Supremacy</td>\n",
       "      <td>40pPI2TbaYSZlKfV44HRjn</td>\n",
       "      <td>spotify:track:40pPI2TbaYSZlKfV44HRjn</td>\n",
       "      <td>295373</td>\n",
       "      <td>Muse</td>\n",
       "    </tr>\n",
       "    <tr>\n",
       "      <th>3</th>\n",
       "      <td>Saturday Night - Radio Mix</td>\n",
       "      <td>59VRFpPnC8pOhIH2WCWXF9</td>\n",
       "      <td>spotify:track:59VRFpPnC8pOhIH2WCWXF9</td>\n",
       "      <td>247405</td>\n",
       "      <td>Whigfield</td>\n",
       "    </tr>\n",
       "    <tr>\n",
       "      <th>4</th>\n",
       "      <td>The Real Slim Shady</td>\n",
       "      <td>3yfqSUWxFvZELEM4PmlwIR</td>\n",
       "      <td>spotify:track:3yfqSUWxFvZELEM4PmlwIR</td>\n",
       "      <td>284200</td>\n",
       "      <td>Eminem</td>\n",
       "    </tr>\n",
       "  </tbody>\n",
       "</table>\n",
       "</div>"
      ],
      "text/plain": [
       "                        title                      id  \\\n",
       "0          Livin' On A Prayer  37ZJ0p5Jm13JPevGcx4SkF   \n",
       "1           Wishing on a Star  0u2CGItUO2jYEiFaXD7n5S   \n",
       "2                   Supremacy  40pPI2TbaYSZlKfV44HRjn   \n",
       "3  Saturday Night - Radio Mix  59VRFpPnC8pOhIH2WCWXF9   \n",
       "4         The Real Slim Shady  3yfqSUWxFvZELEM4PmlwIR   \n",
       "\n",
       "                                    uri  duration_ms     artists  \n",
       "0  spotify:track:37ZJ0p5Jm13JPevGcx4SkF       249293    Bon Jovi  \n",
       "1  spotify:track:0u2CGItUO2jYEiFaXD7n5S       291760  Rose Royce  \n",
       "2  spotify:track:40pPI2TbaYSZlKfV44HRjn       295373        Muse  \n",
       "3  spotify:track:59VRFpPnC8pOhIH2WCWXF9       247405   Whigfield  \n",
       "4  spotify:track:3yfqSUWxFvZELEM4PmlwIR       284200      Eminem  "
      ]
     },
     "execution_count": 64,
     "metadata": {},
     "output_type": "execute_result"
    }
   ],
   "source": [
    "data.head()"
   ]
  },
  {
   "cell_type": "code",
   "execution_count": 78,
   "metadata": {},
   "outputs": [],
   "source": [
    "# data.to_csv(\"500k songs.csv\", index = False)"
   ]
  },
  {
   "cell_type": "code",
   "execution_count": 7,
   "metadata": {},
   "outputs": [],
   "source": [
    "data = pd.read_csv(\"500k songs.csv\")"
   ]
  },
  {
   "cell_type": "code",
   "execution_count": 8,
   "metadata": {},
   "outputs": [
    {
     "data": {
      "text/plain": [
       "501916"
      ]
     },
     "execution_count": 8,
     "metadata": {},
     "output_type": "execute_result"
    }
   ],
   "source": [
    "uri = data.uri.tolist()\n",
    "len(uri)"
   ]
  },
  {
   "cell_type": "code",
   "execution_count": 9,
   "metadata": {},
   "outputs": [],
   "source": [
    "uri1 = uri[:100000]\n",
    "uri2 = uri[100000:200000]\n",
    "uri3 = uri[200000:300000]\n",
    "uri4 = uri[300000:400000]\n",
    "uri5 = uri[400000:]"
   ]
  },
  {
   "cell_type": "code",
   "execution_count": 68,
   "metadata": {},
   "outputs": [
    {
     "name": "stdout",
     "output_type": "stream",
     "text": [
      "100000 100000 100000 100000 101916\n"
     ]
    }
   ],
   "source": [
    "print(len(uri1),len(uri2),len(uri3),len(uri4),len(uri5))"
   ]
  },
  {
   "cell_type": "code",
   "execution_count": 92,
   "metadata": {},
   "outputs": [],
   "source": [
    "df_uri = pd.DataFrame()"
   ]
  },
  {
   "cell_type": "code",
   "execution_count": 106,
   "metadata": {},
   "outputs": [],
   "source": [
    "for i in uri1[50000:]:\n",
    "    songuri1 = sp.audio_features(i)\n",
    "    songuri1 = pd.DataFrame(songuri1)\n",
    "    df_uri = pd.concat([df_uri, songuri1])\n",
    "    time.sleep(random.uniform(1,3))"
   ]
  },
  {
   "attachments": {},
   "cell_type": "markdown",
   "metadata": {},
   "source": [
    "uri1 done."
   ]
  },
  {
   "cell_type": "code",
   "execution_count": 18,
   "metadata": {},
   "outputs": [],
   "source": [
    "counter = 0\n",
    "for i in uri2[97500:]:\n",
    "    songuri2 = sp.audio_features(i)\n",
    "    songuri2 = pd.DataFrame(songuri2)\n",
    "    df_uri = pd.concat([df_uri, songuri2])\n",
    "    counter += 1\n",
    "    time.sleep(random.uniform(3,5))\n",
    "    # if counter%20 == 0:\n",
    "    #     time.sleep(5)"
   ]
  },
  {
   "cell_type": "code",
   "execution_count": 34,
   "metadata": {},
   "outputs": [],
   "source": [
    "df_uri = pd.read_csv(\"uri.csv\")"
   ]
  },
  {
   "cell_type": "code",
   "execution_count": 32,
   "metadata": {},
   "outputs": [
    {
     "data": {
      "text/plain": [
       "(210000, 24)"
      ]
     },
     "execution_count": 32,
     "metadata": {},
     "output_type": "execute_result"
    }
   ],
   "source": [
    "df_uri.shape1"
   ]
  },
  {
   "attachments": {},
   "cell_type": "markdown",
   "metadata": {},
   "source": [
    "uri2 done."
   ]
  },
  {
   "cell_type": "code",
   "execution_count": 33,
   "metadata": {},
   "outputs": [
    {
     "ename": "ReadTimeout",
     "evalue": "HTTPSConnectionPool(host='api.spotify.com', port=443): Read timed out. (read timeout=5)",
     "output_type": "error",
     "traceback": [
      "\u001b[1;31m---------------------------------------------------------------------------\u001b[0m",
      "\u001b[1;31mTimeoutError\u001b[0m                              Traceback (most recent call last)",
      "File \u001b[1;32md:\\Python 3.10\\lib\\site-packages\\urllib3\\connectionpool.py:449\u001b[0m, in \u001b[0;36mHTTPConnectionPool._make_request\u001b[1;34m(self, conn, method, url, timeout, chunked, **httplib_request_kw)\u001b[0m\n\u001b[0;32m    445\u001b[0m         \u001b[39mexcept\u001b[39;00m \u001b[39mBaseException\u001b[39;00m \u001b[39mas\u001b[39;00m e:\n\u001b[0;32m    446\u001b[0m             \u001b[39m# Remove the TypeError from the exception chain in\u001b[39;00m\n\u001b[0;32m    447\u001b[0m             \u001b[39m# Python 3 (including for exceptions like SystemExit).\u001b[39;00m\n\u001b[0;32m    448\u001b[0m             \u001b[39m# Otherwise it looks like a bug in the code.\u001b[39;00m\n\u001b[1;32m--> 449\u001b[0m             six\u001b[39m.\u001b[39;49mraise_from(e, \u001b[39mNone\u001b[39;49;00m)\n\u001b[0;32m    450\u001b[0m \u001b[39mexcept\u001b[39;00m (SocketTimeout, BaseSSLError, SocketError) \u001b[39mas\u001b[39;00m e:\n",
      "File \u001b[1;32m<string>:3\u001b[0m, in \u001b[0;36mraise_from\u001b[1;34m(value, from_value)\u001b[0m\n",
      "File \u001b[1;32md:\\Python 3.10\\lib\\site-packages\\urllib3\\connectionpool.py:444\u001b[0m, in \u001b[0;36mHTTPConnectionPool._make_request\u001b[1;34m(self, conn, method, url, timeout, chunked, **httplib_request_kw)\u001b[0m\n\u001b[0;32m    443\u001b[0m \u001b[39mtry\u001b[39;00m:\n\u001b[1;32m--> 444\u001b[0m     httplib_response \u001b[39m=\u001b[39m conn\u001b[39m.\u001b[39;49mgetresponse()\n\u001b[0;32m    445\u001b[0m \u001b[39mexcept\u001b[39;00m \u001b[39mBaseException\u001b[39;00m \u001b[39mas\u001b[39;00m e:\n\u001b[0;32m    446\u001b[0m     \u001b[39m# Remove the TypeError from the exception chain in\u001b[39;00m\n\u001b[0;32m    447\u001b[0m     \u001b[39m# Python 3 (including for exceptions like SystemExit).\u001b[39;00m\n\u001b[0;32m    448\u001b[0m     \u001b[39m# Otherwise it looks like a bug in the code.\u001b[39;00m\n",
      "File \u001b[1;32md:\\Python 3.10\\lib\\http\\client.py:1374\u001b[0m, in \u001b[0;36mHTTPConnection.getresponse\u001b[1;34m(self)\u001b[0m\n\u001b[0;32m   1373\u001b[0m \u001b[39mtry\u001b[39;00m:\n\u001b[1;32m-> 1374\u001b[0m     response\u001b[39m.\u001b[39;49mbegin()\n\u001b[0;32m   1375\u001b[0m \u001b[39mexcept\u001b[39;00m \u001b[39mConnectionError\u001b[39;00m:\n",
      "File \u001b[1;32md:\\Python 3.10\\lib\\http\\client.py:318\u001b[0m, in \u001b[0;36mHTTPResponse.begin\u001b[1;34m(self)\u001b[0m\n\u001b[0;32m    317\u001b[0m \u001b[39mwhile\u001b[39;00m \u001b[39mTrue\u001b[39;00m:\n\u001b[1;32m--> 318\u001b[0m     version, status, reason \u001b[39m=\u001b[39m \u001b[39mself\u001b[39;49m\u001b[39m.\u001b[39;49m_read_status()\n\u001b[0;32m    319\u001b[0m     \u001b[39mif\u001b[39;00m status \u001b[39m!=\u001b[39m CONTINUE:\n",
      "File \u001b[1;32md:\\Python 3.10\\lib\\http\\client.py:279\u001b[0m, in \u001b[0;36mHTTPResponse._read_status\u001b[1;34m(self)\u001b[0m\n\u001b[0;32m    278\u001b[0m \u001b[39mdef\u001b[39;00m \u001b[39m_read_status\u001b[39m(\u001b[39mself\u001b[39m):\n\u001b[1;32m--> 279\u001b[0m     line \u001b[39m=\u001b[39m \u001b[39mstr\u001b[39m(\u001b[39mself\u001b[39;49m\u001b[39m.\u001b[39;49mfp\u001b[39m.\u001b[39;49mreadline(_MAXLINE \u001b[39m+\u001b[39;49m \u001b[39m1\u001b[39;49m), \u001b[39m\"\u001b[39m\u001b[39miso-8859-1\u001b[39m\u001b[39m\"\u001b[39m)\n\u001b[0;32m    280\u001b[0m     \u001b[39mif\u001b[39;00m \u001b[39mlen\u001b[39m(line) \u001b[39m>\u001b[39m _MAXLINE:\n",
      "File \u001b[1;32md:\\Python 3.10\\lib\\socket.py:705\u001b[0m, in \u001b[0;36mSocketIO.readinto\u001b[1;34m(self, b)\u001b[0m\n\u001b[0;32m    704\u001b[0m \u001b[39mtry\u001b[39;00m:\n\u001b[1;32m--> 705\u001b[0m     \u001b[39mreturn\u001b[39;00m \u001b[39mself\u001b[39;49m\u001b[39m.\u001b[39;49m_sock\u001b[39m.\u001b[39;49mrecv_into(b)\n\u001b[0;32m    706\u001b[0m \u001b[39mexcept\u001b[39;00m timeout:\n",
      "File \u001b[1;32md:\\Python 3.10\\lib\\ssl.py:1273\u001b[0m, in \u001b[0;36mSSLSocket.recv_into\u001b[1;34m(self, buffer, nbytes, flags)\u001b[0m\n\u001b[0;32m   1270\u001b[0m         \u001b[39mraise\u001b[39;00m \u001b[39mValueError\u001b[39;00m(\n\u001b[0;32m   1271\u001b[0m           \u001b[39m\"\u001b[39m\u001b[39mnon-zero flags not allowed in calls to recv_into() on \u001b[39m\u001b[39m%s\u001b[39;00m\u001b[39m\"\u001b[39m \u001b[39m%\u001b[39m\n\u001b[0;32m   1272\u001b[0m           \u001b[39mself\u001b[39m\u001b[39m.\u001b[39m\u001b[39m__class__\u001b[39m)\n\u001b[1;32m-> 1273\u001b[0m     \u001b[39mreturn\u001b[39;00m \u001b[39mself\u001b[39;49m\u001b[39m.\u001b[39;49mread(nbytes, buffer)\n\u001b[0;32m   1274\u001b[0m \u001b[39melse\u001b[39;00m:\n",
      "File \u001b[1;32md:\\Python 3.10\\lib\\ssl.py:1129\u001b[0m, in \u001b[0;36mSSLSocket.read\u001b[1;34m(self, len, buffer)\u001b[0m\n\u001b[0;32m   1128\u001b[0m \u001b[39mif\u001b[39;00m buffer \u001b[39mis\u001b[39;00m \u001b[39mnot\u001b[39;00m \u001b[39mNone\u001b[39;00m:\n\u001b[1;32m-> 1129\u001b[0m     \u001b[39mreturn\u001b[39;00m \u001b[39mself\u001b[39;49m\u001b[39m.\u001b[39;49m_sslobj\u001b[39m.\u001b[39;49mread(\u001b[39mlen\u001b[39;49m, buffer)\n\u001b[0;32m   1130\u001b[0m \u001b[39melse\u001b[39;00m:\n",
      "\u001b[1;31mTimeoutError\u001b[0m: The read operation timed out",
      "\nDuring handling of the above exception, another exception occurred:\n",
      "\u001b[1;31mReadTimeoutError\u001b[0m                          Traceback (most recent call last)",
      "File \u001b[1;32md:\\Python 3.10\\lib\\site-packages\\requests\\adapters.py:489\u001b[0m, in \u001b[0;36mHTTPAdapter.send\u001b[1;34m(self, request, stream, timeout, verify, cert, proxies)\u001b[0m\n\u001b[0;32m    488\u001b[0m \u001b[39mif\u001b[39;00m \u001b[39mnot\u001b[39;00m chunked:\n\u001b[1;32m--> 489\u001b[0m     resp \u001b[39m=\u001b[39m conn\u001b[39m.\u001b[39;49murlopen(\n\u001b[0;32m    490\u001b[0m         method\u001b[39m=\u001b[39;49mrequest\u001b[39m.\u001b[39;49mmethod,\n\u001b[0;32m    491\u001b[0m         url\u001b[39m=\u001b[39;49murl,\n\u001b[0;32m    492\u001b[0m         body\u001b[39m=\u001b[39;49mrequest\u001b[39m.\u001b[39;49mbody,\n\u001b[0;32m    493\u001b[0m         headers\u001b[39m=\u001b[39;49mrequest\u001b[39m.\u001b[39;49mheaders,\n\u001b[0;32m    494\u001b[0m         redirect\u001b[39m=\u001b[39;49m\u001b[39mFalse\u001b[39;49;00m,\n\u001b[0;32m    495\u001b[0m         assert_same_host\u001b[39m=\u001b[39;49m\u001b[39mFalse\u001b[39;49;00m,\n\u001b[0;32m    496\u001b[0m         preload_content\u001b[39m=\u001b[39;49m\u001b[39mFalse\u001b[39;49;00m,\n\u001b[0;32m    497\u001b[0m         decode_content\u001b[39m=\u001b[39;49m\u001b[39mFalse\u001b[39;49;00m,\n\u001b[0;32m    498\u001b[0m         retries\u001b[39m=\u001b[39;49m\u001b[39mself\u001b[39;49m\u001b[39m.\u001b[39;49mmax_retries,\n\u001b[0;32m    499\u001b[0m         timeout\u001b[39m=\u001b[39;49mtimeout,\n\u001b[0;32m    500\u001b[0m     )\n\u001b[0;32m    502\u001b[0m \u001b[39m# Send the request.\u001b[39;00m\n\u001b[0;32m    503\u001b[0m \u001b[39melse\u001b[39;00m:\n",
      "File \u001b[1;32md:\\Python 3.10\\lib\\site-packages\\urllib3\\connectionpool.py:787\u001b[0m, in \u001b[0;36mHTTPConnectionPool.urlopen\u001b[1;34m(self, method, url, body, headers, retries, redirect, assert_same_host, timeout, pool_timeout, release_conn, chunked, body_pos, **response_kw)\u001b[0m\n\u001b[0;32m    785\u001b[0m     e \u001b[39m=\u001b[39m ProtocolError(\u001b[39m\"\u001b[39m\u001b[39mConnection aborted.\u001b[39m\u001b[39m\"\u001b[39m, e)\n\u001b[1;32m--> 787\u001b[0m retries \u001b[39m=\u001b[39m retries\u001b[39m.\u001b[39;49mincrement(\n\u001b[0;32m    788\u001b[0m     method, url, error\u001b[39m=\u001b[39;49me, _pool\u001b[39m=\u001b[39;49m\u001b[39mself\u001b[39;49m, _stacktrace\u001b[39m=\u001b[39;49msys\u001b[39m.\u001b[39;49mexc_info()[\u001b[39m2\u001b[39;49m]\n\u001b[0;32m    789\u001b[0m )\n\u001b[0;32m    790\u001b[0m retries\u001b[39m.\u001b[39msleep()\n",
      "File \u001b[1;32md:\\Python 3.10\\lib\\site-packages\\urllib3\\util\\retry.py:550\u001b[0m, in \u001b[0;36mRetry.increment\u001b[1;34m(self, method, url, response, error, _pool, _stacktrace)\u001b[0m\n\u001b[0;32m    549\u001b[0m \u001b[39mif\u001b[39;00m read \u001b[39mis\u001b[39;00m \u001b[39mFalse\u001b[39;00m \u001b[39mor\u001b[39;00m \u001b[39mnot\u001b[39;00m \u001b[39mself\u001b[39m\u001b[39m.\u001b[39m_is_method_retryable(method):\n\u001b[1;32m--> 550\u001b[0m     \u001b[39mraise\u001b[39;00m six\u001b[39m.\u001b[39;49mreraise(\u001b[39mtype\u001b[39;49m(error), error, _stacktrace)\n\u001b[0;32m    551\u001b[0m \u001b[39melif\u001b[39;00m read \u001b[39mis\u001b[39;00m \u001b[39mnot\u001b[39;00m \u001b[39mNone\u001b[39;00m:\n",
      "File \u001b[1;32md:\\Python 3.10\\lib\\site-packages\\urllib3\\packages\\six.py:770\u001b[0m, in \u001b[0;36mreraise\u001b[1;34m(tp, value, tb)\u001b[0m\n\u001b[0;32m    769\u001b[0m         \u001b[39mraise\u001b[39;00m value\u001b[39m.\u001b[39mwith_traceback(tb)\n\u001b[1;32m--> 770\u001b[0m     \u001b[39mraise\u001b[39;00m value\n\u001b[0;32m    771\u001b[0m \u001b[39mfinally\u001b[39;00m:\n",
      "File \u001b[1;32md:\\Python 3.10\\lib\\site-packages\\urllib3\\connectionpool.py:703\u001b[0m, in \u001b[0;36mHTTPConnectionPool.urlopen\u001b[1;34m(self, method, url, body, headers, retries, redirect, assert_same_host, timeout, pool_timeout, release_conn, chunked, body_pos, **response_kw)\u001b[0m\n\u001b[0;32m    702\u001b[0m \u001b[39m# Make the request on the httplib connection object.\u001b[39;00m\n\u001b[1;32m--> 703\u001b[0m httplib_response \u001b[39m=\u001b[39m \u001b[39mself\u001b[39;49m\u001b[39m.\u001b[39;49m_make_request(\n\u001b[0;32m    704\u001b[0m     conn,\n\u001b[0;32m    705\u001b[0m     method,\n\u001b[0;32m    706\u001b[0m     url,\n\u001b[0;32m    707\u001b[0m     timeout\u001b[39m=\u001b[39;49mtimeout_obj,\n\u001b[0;32m    708\u001b[0m     body\u001b[39m=\u001b[39;49mbody,\n\u001b[0;32m    709\u001b[0m     headers\u001b[39m=\u001b[39;49mheaders,\n\u001b[0;32m    710\u001b[0m     chunked\u001b[39m=\u001b[39;49mchunked,\n\u001b[0;32m    711\u001b[0m )\n\u001b[0;32m    713\u001b[0m \u001b[39m# If we're going to release the connection in ``finally:``, then\u001b[39;00m\n\u001b[0;32m    714\u001b[0m \u001b[39m# the response doesn't need to know about the connection. Otherwise\u001b[39;00m\n\u001b[0;32m    715\u001b[0m \u001b[39m# it will also try to release it and we'll have a double-release\u001b[39;00m\n\u001b[0;32m    716\u001b[0m \u001b[39m# mess.\u001b[39;00m\n",
      "File \u001b[1;32md:\\Python 3.10\\lib\\site-packages\\urllib3\\connectionpool.py:451\u001b[0m, in \u001b[0;36mHTTPConnectionPool._make_request\u001b[1;34m(self, conn, method, url, timeout, chunked, **httplib_request_kw)\u001b[0m\n\u001b[0;32m    450\u001b[0m \u001b[39mexcept\u001b[39;00m (SocketTimeout, BaseSSLError, SocketError) \u001b[39mas\u001b[39;00m e:\n\u001b[1;32m--> 451\u001b[0m     \u001b[39mself\u001b[39;49m\u001b[39m.\u001b[39;49m_raise_timeout(err\u001b[39m=\u001b[39;49me, url\u001b[39m=\u001b[39;49murl, timeout_value\u001b[39m=\u001b[39;49mread_timeout)\n\u001b[0;32m    452\u001b[0m     \u001b[39mraise\u001b[39;00m\n",
      "File \u001b[1;32md:\\Python 3.10\\lib\\site-packages\\urllib3\\connectionpool.py:340\u001b[0m, in \u001b[0;36mHTTPConnectionPool._raise_timeout\u001b[1;34m(self, err, url, timeout_value)\u001b[0m\n\u001b[0;32m    339\u001b[0m \u001b[39mif\u001b[39;00m \u001b[39misinstance\u001b[39m(err, SocketTimeout):\n\u001b[1;32m--> 340\u001b[0m     \u001b[39mraise\u001b[39;00m ReadTimeoutError(\n\u001b[0;32m    341\u001b[0m         \u001b[39mself\u001b[39m, url, \u001b[39m\"\u001b[39m\u001b[39mRead timed out. (read timeout=\u001b[39m\u001b[39m%s\u001b[39;00m\u001b[39m)\u001b[39m\u001b[39m\"\u001b[39m \u001b[39m%\u001b[39m timeout_value\n\u001b[0;32m    342\u001b[0m     )\n\u001b[0;32m    344\u001b[0m \u001b[39m# See the above comment about EAGAIN in Python 3. In Python 2 we have\u001b[39;00m\n\u001b[0;32m    345\u001b[0m \u001b[39m# to specifically catch it and throw the timeout error\u001b[39;00m\n",
      "\u001b[1;31mReadTimeoutError\u001b[0m: HTTPSConnectionPool(host='api.spotify.com', port=443): Read timed out. (read timeout=5)",
      "\nDuring handling of the above exception, another exception occurred:\n",
      "\u001b[1;31mReadTimeout\u001b[0m                               Traceback (most recent call last)",
      "Cell \u001b[1;32mIn [33], line 2\u001b[0m\n\u001b[0;32m      1\u001b[0m \u001b[39mfor\u001b[39;00m i \u001b[39min\u001b[39;00m uri3[\u001b[39m10000\u001b[39m:\u001b[39m15000\u001b[39m]:\n\u001b[1;32m----> 2\u001b[0m     songuri3 \u001b[39m=\u001b[39m sp\u001b[39m.\u001b[39;49maudio_features(i)\n\u001b[0;32m      3\u001b[0m     songuri3 \u001b[39m=\u001b[39m pd\u001b[39m.\u001b[39mDataFrame(songuri3)\n\u001b[0;32m      4\u001b[0m     df_uri \u001b[39m=\u001b[39m pd\u001b[39m.\u001b[39mconcat([df_uri, songuri3])\n",
      "File \u001b[1;32md:\\Python 3.10\\lib\\site-packages\\spotipy\\client.py:1689\u001b[0m, in \u001b[0;36mSpotify.audio_features\u001b[1;34m(self, tracks)\u001b[0m\n\u001b[0;32m   1687\u001b[0m \u001b[39mif\u001b[39;00m \u001b[39misinstance\u001b[39m(tracks, \u001b[39mstr\u001b[39m):\n\u001b[0;32m   1688\u001b[0m     trackid \u001b[39m=\u001b[39m \u001b[39mself\u001b[39m\u001b[39m.\u001b[39m_get_id(\u001b[39m\"\u001b[39m\u001b[39mtrack\u001b[39m\u001b[39m\"\u001b[39m, tracks)\n\u001b[1;32m-> 1689\u001b[0m     results \u001b[39m=\u001b[39m \u001b[39mself\u001b[39;49m\u001b[39m.\u001b[39;49m_get(\u001b[39m\"\u001b[39;49m\u001b[39maudio-features/?ids=\u001b[39;49m\u001b[39m\"\u001b[39;49m \u001b[39m+\u001b[39;49m trackid)\n\u001b[0;32m   1690\u001b[0m \u001b[39melse\u001b[39;00m:\n\u001b[0;32m   1691\u001b[0m     tlist \u001b[39m=\u001b[39m [\u001b[39mself\u001b[39m\u001b[39m.\u001b[39m_get_id(\u001b[39m\"\u001b[39m\u001b[39mtrack\u001b[39m\u001b[39m\"\u001b[39m, t) \u001b[39mfor\u001b[39;00m t \u001b[39min\u001b[39;00m tracks]\n",
      "File \u001b[1;32md:\\Python 3.10\\lib\\site-packages\\spotipy\\client.py:297\u001b[0m, in \u001b[0;36mSpotify._get\u001b[1;34m(self, url, args, payload, **kwargs)\u001b[0m\n\u001b[0;32m    294\u001b[0m \u001b[39mif\u001b[39;00m args:\n\u001b[0;32m    295\u001b[0m     kwargs\u001b[39m.\u001b[39mupdate(args)\n\u001b[1;32m--> 297\u001b[0m \u001b[39mreturn\u001b[39;00m \u001b[39mself\u001b[39;49m\u001b[39m.\u001b[39;49m_internal_call(\u001b[39m\"\u001b[39;49m\u001b[39mGET\u001b[39;49m\u001b[39m\"\u001b[39;49m, url, payload, kwargs)\n",
      "File \u001b[1;32md:\\Python 3.10\\lib\\site-packages\\spotipy\\client.py:240\u001b[0m, in \u001b[0;36mSpotify._internal_call\u001b[1;34m(self, method, url, payload, params)\u001b[0m\n\u001b[0;32m    236\u001b[0m logger\u001b[39m.\u001b[39mdebug(\u001b[39m'\u001b[39m\u001b[39mSending \u001b[39m\u001b[39m%s\u001b[39;00m\u001b[39m to \u001b[39m\u001b[39m%s\u001b[39;00m\u001b[39m with Params: \u001b[39m\u001b[39m%s\u001b[39;00m\u001b[39m Headers: \u001b[39m\u001b[39m%s\u001b[39;00m\u001b[39m and Body: \u001b[39m\u001b[39m%r\u001b[39;00m\u001b[39m \u001b[39m\u001b[39m'\u001b[39m,\n\u001b[0;32m    237\u001b[0m              method, url, args\u001b[39m.\u001b[39mget(\u001b[39m\"\u001b[39m\u001b[39mparams\u001b[39m\u001b[39m\"\u001b[39m), headers, args\u001b[39m.\u001b[39mget(\u001b[39m'\u001b[39m\u001b[39mdata\u001b[39m\u001b[39m'\u001b[39m))\n\u001b[0;32m    239\u001b[0m \u001b[39mtry\u001b[39;00m:\n\u001b[1;32m--> 240\u001b[0m     response \u001b[39m=\u001b[39m \u001b[39mself\u001b[39m\u001b[39m.\u001b[39m_session\u001b[39m.\u001b[39mrequest(\n\u001b[0;32m    241\u001b[0m         method, url, headers\u001b[39m=\u001b[39mheaders, proxies\u001b[39m=\u001b[39m\u001b[39mself\u001b[39m\u001b[39m.\u001b[39mproxies,\n\u001b[0;32m    242\u001b[0m         timeout\u001b[39m=\u001b[39m\u001b[39mself\u001b[39m\u001b[39m.\u001b[39mrequests_timeout, \u001b[39m*\u001b[39m\u001b[39m*\u001b[39margs\n\u001b[0;32m    243\u001b[0m     )\n\u001b[0;32m    245\u001b[0m     response\u001b[39m.\u001b[39mraise_for_status()\n\u001b[0;32m    246\u001b[0m     results \u001b[39m=\u001b[39m response\u001b[39m.\u001b[39mjson()\n",
      "File \u001b[1;32md:\\Python 3.10\\lib\\site-packages\\requests\\sessions.py:587\u001b[0m, in \u001b[0;36mSession.request\u001b[1;34m(self, method, url, params, data, headers, cookies, files, auth, timeout, allow_redirects, proxies, hooks, stream, verify, cert, json)\u001b[0m\n\u001b[0;32m    582\u001b[0m send_kwargs \u001b[39m=\u001b[39m {\n\u001b[0;32m    583\u001b[0m     \u001b[39m\"\u001b[39m\u001b[39mtimeout\u001b[39m\u001b[39m\"\u001b[39m: timeout,\n\u001b[0;32m    584\u001b[0m     \u001b[39m\"\u001b[39m\u001b[39mallow_redirects\u001b[39m\u001b[39m\"\u001b[39m: allow_redirects,\n\u001b[0;32m    585\u001b[0m }\n\u001b[0;32m    586\u001b[0m send_kwargs\u001b[39m.\u001b[39mupdate(settings)\n\u001b[1;32m--> 587\u001b[0m resp \u001b[39m=\u001b[39m \u001b[39mself\u001b[39m\u001b[39m.\u001b[39msend(prep, \u001b[39m*\u001b[39m\u001b[39m*\u001b[39msend_kwargs)\n\u001b[0;32m    589\u001b[0m \u001b[39mreturn\u001b[39;00m resp\n",
      "File \u001b[1;32md:\\Python 3.10\\lib\\site-packages\\requests\\sessions.py:701\u001b[0m, in \u001b[0;36mSession.send\u001b[1;34m(self, request, **kwargs)\u001b[0m\n\u001b[0;32m    698\u001b[0m start \u001b[39m=\u001b[39m preferred_clock()\n\u001b[0;32m    700\u001b[0m \u001b[39m# Send the request\u001b[39;00m\n\u001b[1;32m--> 701\u001b[0m r \u001b[39m=\u001b[39m adapter\u001b[39m.\u001b[39msend(request, \u001b[39m*\u001b[39m\u001b[39m*\u001b[39mkwargs)\n\u001b[0;32m    703\u001b[0m \u001b[39m# Total elapsed time of the request (approximately)\u001b[39;00m\n\u001b[0;32m    704\u001b[0m elapsed \u001b[39m=\u001b[39m preferred_clock() \u001b[39m-\u001b[39m start\n",
      "File \u001b[1;32md:\\Python 3.10\\lib\\site-packages\\requests\\adapters.py:578\u001b[0m, in \u001b[0;36mHTTPAdapter.send\u001b[1;34m(self, request, stream, timeout, verify, cert, proxies)\u001b[0m\n\u001b[0;32m    576\u001b[0m     \u001b[39mraise\u001b[39;00m SSLError(e, request\u001b[39m=\u001b[39mrequest)\n\u001b[0;32m    577\u001b[0m \u001b[39melif\u001b[39;00m \u001b[39misinstance\u001b[39m(e, ReadTimeoutError):\n\u001b[1;32m--> 578\u001b[0m     \u001b[39mraise\u001b[39;00m ReadTimeout(e, request\u001b[39m=\u001b[39mrequest)\n\u001b[0;32m    579\u001b[0m \u001b[39melif\u001b[39;00m \u001b[39misinstance\u001b[39m(e, _InvalidHeader):\n\u001b[0;32m    580\u001b[0m     \u001b[39mraise\u001b[39;00m InvalidHeader(e, request\u001b[39m=\u001b[39mrequest)\n",
      "\u001b[1;31mReadTimeout\u001b[0m: HTTPSConnectionPool(host='api.spotify.com', port=443): Read timed out. (read timeout=5)"
     ]
    }
   ],
   "source": [
    "for i in uri3[10000:12500]:\n",
    "    songuri3 = sp.audio_features(i)\n",
    "    songuri3 = pd.DataFrame(songuri3)\n",
    "    df_uri = pd.concat([df_uri, songuri3])\n",
    "    time.sleep(random.uniform(3,5))"
   ]
  },
  {
   "cell_type": "code",
   "execution_count": 25,
   "metadata": {},
   "outputs": [
    {
     "data": {
      "text/plain": [
       "(210000, 24)"
      ]
     },
     "execution_count": 25,
     "metadata": {},
     "output_type": "execute_result"
    }
   ],
   "source": [
    "df_uri.shape"
   ]
  },
  {
   "cell_type": "code",
   "execution_count": 26,
   "metadata": {},
   "outputs": [],
   "source": [
    "df_uri.to_csv(\"uri.csv\", index = False)"
   ]
  },
  {
   "cell_type": "code",
   "execution_count": null,
   "metadata": {},
   "outputs": [],
   "source": []
  },
  {
   "cell_type": "code",
   "execution_count": null,
   "metadata": {},
   "outputs": [],
   "source": []
  },
  {
   "attachments": {},
   "cell_type": "markdown",
   "metadata": {},
   "source": [
    "cleaning up a bit"
   ]
  },
  {
   "cell_type": "code",
   "execution_count": 18,
   "metadata": {},
   "outputs": [],
   "source": [
    "df_uri = df_uri.reset_index()\n",
    "df_uri = df_uri.drop([\"type\",0, \"index\"], axis = 1)\n",
    "data = data.drop([\"id\",\"uri\",\"duration_s\"], axis = 1)"
   ]
  },
  {
   "cell_type": "code",
   "execution_count": 19,
   "metadata": {},
   "outputs": [
    {
     "data": {
      "text/plain": [
       "(48997, 17)"
      ]
     },
     "metadata": {},
     "output_type": "display_data"
    },
    {
     "data": {
      "text/plain": [
       "(48997, 2)"
      ]
     },
     "metadata": {},
     "output_type": "display_data"
    }
   ],
   "source": [
    "display(df_uri.shape)\n",
    "display(data.shape)"
   ]
  },
  {
   "attachments": {},
   "cell_type": "markdown",
   "metadata": {},
   "source": [
    "combine titles+artists with audio_features"
   ]
  },
  {
   "cell_type": "code",
   "execution_count": 20,
   "metadata": {},
   "outputs": [
    {
     "data": {
      "text/html": [
       "<div>\n",
       "<style scoped>\n",
       "    .dataframe tbody tr th:only-of-type {\n",
       "        vertical-align: middle;\n",
       "    }\n",
       "\n",
       "    .dataframe tbody tr th {\n",
       "        vertical-align: top;\n",
       "    }\n",
       "\n",
       "    .dataframe thead th {\n",
       "        text-align: right;\n",
       "    }\n",
       "</style>\n",
       "<table border=\"1\" class=\"dataframe\">\n",
       "  <thead>\n",
       "    <tr style=\"text-align: right;\">\n",
       "      <th></th>\n",
       "      <th>title</th>\n",
       "      <th>artists</th>\n",
       "      <th>danceability</th>\n",
       "      <th>energy</th>\n",
       "      <th>key</th>\n",
       "      <th>loudness</th>\n",
       "      <th>mode</th>\n",
       "      <th>speechiness</th>\n",
       "      <th>acousticness</th>\n",
       "      <th>instrumentalness</th>\n",
       "      <th>liveness</th>\n",
       "      <th>valence</th>\n",
       "      <th>tempo</th>\n",
       "      <th>id</th>\n",
       "      <th>uri</th>\n",
       "      <th>track_href</th>\n",
       "      <th>analysis_url</th>\n",
       "      <th>duration_ms</th>\n",
       "      <th>time_signature</th>\n",
       "    </tr>\n",
       "  </thead>\n",
       "  <tbody>\n",
       "    <tr>\n",
       "      <th>0</th>\n",
       "      <td>Livin' On A Prayer</td>\n",
       "      <td>Bon Jovi</td>\n",
       "      <td>0.532</td>\n",
       "      <td>0.887</td>\n",
       "      <td>0.0</td>\n",
       "      <td>-3.757</td>\n",
       "      <td>1.0</td>\n",
       "      <td>0.0335</td>\n",
       "      <td>0.07780</td>\n",
       "      <td>0.000214</td>\n",
       "      <td>0.2940</td>\n",
       "      <td>0.795</td>\n",
       "      <td>122.511</td>\n",
       "      <td>37ZJ0p5Jm13JPevGcx4SkF</td>\n",
       "      <td>spotify:track:37ZJ0p5Jm13JPevGcx4SkF</td>\n",
       "      <td>https://api.spotify.com/v1/tracks/37ZJ0p5Jm13J...</td>\n",
       "      <td>https://api.spotify.com/v1/audio-analysis/37ZJ...</td>\n",
       "      <td>249293.0</td>\n",
       "      <td>4.0</td>\n",
       "    </tr>\n",
       "    <tr>\n",
       "      <th>1</th>\n",
       "      <td>Wishing on a Star</td>\n",
       "      <td>Rose Royce</td>\n",
       "      <td>0.335</td>\n",
       "      <td>0.422</td>\n",
       "      <td>5.0</td>\n",
       "      <td>-15.172</td>\n",
       "      <td>0.0</td>\n",
       "      <td>0.0519</td>\n",
       "      <td>0.71600</td>\n",
       "      <td>0.000040</td>\n",
       "      <td>0.0455</td>\n",
       "      <td>0.553</td>\n",
       "      <td>97.660</td>\n",
       "      <td>0u2CGItUO2jYEiFaXD7n5S</td>\n",
       "      <td>spotify:track:0u2CGItUO2jYEiFaXD7n5S</td>\n",
       "      <td>https://api.spotify.com/v1/tracks/0u2CGItUO2jY...</td>\n",
       "      <td>https://api.spotify.com/v1/audio-analysis/0u2C...</td>\n",
       "      <td>291760.0</td>\n",
       "      <td>4.0</td>\n",
       "    </tr>\n",
       "    <tr>\n",
       "      <th>2</th>\n",
       "      <td>Supremacy</td>\n",
       "      <td>Muse</td>\n",
       "      <td>0.256</td>\n",
       "      <td>0.679</td>\n",
       "      <td>9.0</td>\n",
       "      <td>-4.495</td>\n",
       "      <td>0.0</td>\n",
       "      <td>0.0387</td>\n",
       "      <td>0.00451</td>\n",
       "      <td>0.040900</td>\n",
       "      <td>0.1720</td>\n",
       "      <td>0.325</td>\n",
       "      <td>158.718</td>\n",
       "      <td>40pPI2TbaYSZlKfV44HRjn</td>\n",
       "      <td>spotify:track:40pPI2TbaYSZlKfV44HRjn</td>\n",
       "      <td>https://api.spotify.com/v1/tracks/40pPI2TbaYSZ...</td>\n",
       "      <td>https://api.spotify.com/v1/audio-analysis/40pP...</td>\n",
       "      <td>295373.0</td>\n",
       "      <td>4.0</td>\n",
       "    </tr>\n",
       "    <tr>\n",
       "      <th>3</th>\n",
       "      <td>Saturday Night - Radio Mix</td>\n",
       "      <td>Whigfield</td>\n",
       "      <td>0.728</td>\n",
       "      <td>0.784</td>\n",
       "      <td>11.0</td>\n",
       "      <td>-11.776</td>\n",
       "      <td>1.0</td>\n",
       "      <td>0.0379</td>\n",
       "      <td>0.04490</td>\n",
       "      <td>0.091800</td>\n",
       "      <td>0.0964</td>\n",
       "      <td>0.964</td>\n",
       "      <td>129.981</td>\n",
       "      <td>59VRFpPnC8pOhIH2WCWXF9</td>\n",
       "      <td>spotify:track:59VRFpPnC8pOhIH2WCWXF9</td>\n",
       "      <td>https://api.spotify.com/v1/tracks/59VRFpPnC8pO...</td>\n",
       "      <td>https://api.spotify.com/v1/audio-analysis/59VR...</td>\n",
       "      <td>247406.0</td>\n",
       "      <td>4.0</td>\n",
       "    </tr>\n",
       "    <tr>\n",
       "      <th>4</th>\n",
       "      <td>The Real Slim Shady</td>\n",
       "      <td>Eminem</td>\n",
       "      <td>0.949</td>\n",
       "      <td>0.661</td>\n",
       "      <td>5.0</td>\n",
       "      <td>-4.244</td>\n",
       "      <td>0.0</td>\n",
       "      <td>0.0572</td>\n",
       "      <td>0.03020</td>\n",
       "      <td>0.000000</td>\n",
       "      <td>0.0454</td>\n",
       "      <td>0.760</td>\n",
       "      <td>104.504</td>\n",
       "      <td>3yfqSUWxFvZELEM4PmlwIR</td>\n",
       "      <td>spotify:track:3yfqSUWxFvZELEM4PmlwIR</td>\n",
       "      <td>https://api.spotify.com/v1/tracks/3yfqSUWxFvZE...</td>\n",
       "      <td>https://api.spotify.com/v1/audio-analysis/3yfq...</td>\n",
       "      <td>284200.0</td>\n",
       "      <td>4.0</td>\n",
       "    </tr>\n",
       "  </tbody>\n",
       "</table>\n",
       "</div>"
      ],
      "text/plain": [
       "                        title     artists  danceability  energy   key  \\\n",
       "0          Livin' On A Prayer    Bon Jovi         0.532   0.887   0.0   \n",
       "1           Wishing on a Star  Rose Royce         0.335   0.422   5.0   \n",
       "2                   Supremacy        Muse         0.256   0.679   9.0   \n",
       "3  Saturday Night - Radio Mix   Whigfield         0.728   0.784  11.0   \n",
       "4         The Real Slim Shady      Eminem         0.949   0.661   5.0   \n",
       "\n",
       "   loudness  mode  speechiness  acousticness  instrumentalness  liveness  \\\n",
       "0    -3.757   1.0       0.0335       0.07780          0.000214    0.2940   \n",
       "1   -15.172   0.0       0.0519       0.71600          0.000040    0.0455   \n",
       "2    -4.495   0.0       0.0387       0.00451          0.040900    0.1720   \n",
       "3   -11.776   1.0       0.0379       0.04490          0.091800    0.0964   \n",
       "4    -4.244   0.0       0.0572       0.03020          0.000000    0.0454   \n",
       "\n",
       "   valence    tempo                      id  \\\n",
       "0    0.795  122.511  37ZJ0p5Jm13JPevGcx4SkF   \n",
       "1    0.553   97.660  0u2CGItUO2jYEiFaXD7n5S   \n",
       "2    0.325  158.718  40pPI2TbaYSZlKfV44HRjn   \n",
       "3    0.964  129.981  59VRFpPnC8pOhIH2WCWXF9   \n",
       "4    0.760  104.504  3yfqSUWxFvZELEM4PmlwIR   \n",
       "\n",
       "                                    uri  \\\n",
       "0  spotify:track:37ZJ0p5Jm13JPevGcx4SkF   \n",
       "1  spotify:track:0u2CGItUO2jYEiFaXD7n5S   \n",
       "2  spotify:track:40pPI2TbaYSZlKfV44HRjn   \n",
       "3  spotify:track:59VRFpPnC8pOhIH2WCWXF9   \n",
       "4  spotify:track:3yfqSUWxFvZELEM4PmlwIR   \n",
       "\n",
       "                                          track_href  \\\n",
       "0  https://api.spotify.com/v1/tracks/37ZJ0p5Jm13J...   \n",
       "1  https://api.spotify.com/v1/tracks/0u2CGItUO2jY...   \n",
       "2  https://api.spotify.com/v1/tracks/40pPI2TbaYSZ...   \n",
       "3  https://api.spotify.com/v1/tracks/59VRFpPnC8pO...   \n",
       "4  https://api.spotify.com/v1/tracks/3yfqSUWxFvZE...   \n",
       "\n",
       "                                        analysis_url  duration_ms  \\\n",
       "0  https://api.spotify.com/v1/audio-analysis/37ZJ...     249293.0   \n",
       "1  https://api.spotify.com/v1/audio-analysis/0u2C...     291760.0   \n",
       "2  https://api.spotify.com/v1/audio-analysis/40pP...     295373.0   \n",
       "3  https://api.spotify.com/v1/audio-analysis/59VR...     247406.0   \n",
       "4  https://api.spotify.com/v1/audio-analysis/3yfq...     284200.0   \n",
       "\n",
       "   time_signature  \n",
       "0             4.0  \n",
       "1             4.0  \n",
       "2             4.0  \n",
       "3             4.0  \n",
       "4             4.0  "
      ]
     },
     "execution_count": 20,
     "metadata": {},
     "output_type": "execute_result"
    }
   ],
   "source": [
    "full = pd.concat([data,df_uri], axis = 1)\n",
    "full.head()"
   ]
  },
  {
   "cell_type": "code",
   "execution_count": 21,
   "metadata": {},
   "outputs": [
    {
     "data": {
      "text/plain": [
       "(48997, 19)"
      ]
     },
     "metadata": {},
     "output_type": "display_data"
    },
    {
     "data": {
      "text/plain": [
       "(41816, 19)"
      ]
     },
     "execution_count": 21,
     "metadata": {},
     "output_type": "execute_result"
    }
   ],
   "source": [
    "display(full.shape)\n",
    "full = full.drop_duplicates(subset = \"id\")\n",
    "full.shape"
   ]
  },
  {
   "attachments": {},
   "cell_type": "markdown",
   "metadata": {},
   "source": [
    "all clear"
   ]
  },
  {
   "cell_type": "code",
   "execution_count": 22,
   "metadata": {},
   "outputs": [],
   "source": [
    "full.to_csv(\"songlists.csv\", index = False)"
   ]
  }
 ],
 "metadata": {
  "kernelspec": {
   "display_name": "Python 3",
   "language": "python",
   "name": "python3"
  },
  "language_info": {
   "codemirror_mode": {
    "name": "ipython",
    "version": 3
   },
   "file_extension": ".py",
   "mimetype": "text/x-python",
   "name": "python",
   "nbconvert_exporter": "python",
   "pygments_lexer": "ipython3",
   "version": "3.10.2"
  },
  "orig_nbformat": 4,
  "vscode": {
   "interpreter": {
    "hash": "1acc24bd1901f9ae8c29efb6830fcc1ca9fe0219dd00f8f1dc1b91856def15a9"
   }
  }
 },
 "nbformat": 4,
 "nbformat_minor": 2
}
